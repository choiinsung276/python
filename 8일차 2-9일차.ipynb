{
 "cells": [
  {
   "cell_type": "markdown",
   "metadata": {},
   "source": [
    "# 모듈\n",
    "# 정의\n",
    "     -함수나 변수, 클래스들을 모여 놓은 파일 : .py\n",
    "     -비슷하거나 관련된 일을 하는 함수, 클래스, 상수값들을 모아서 하나의 파일에 저장하고 추후에 재 사용하기 위한 목적\n",
    "     \n",
    "# 종류\n",
    "    -표준 모듈\n",
    "    -사용자 정의 모듈\n",
    "    -서드 파티 모듈"
   ]
  },
  {
   "cell_type": "markdown",
   "metadata": {},
   "source": [
    "10문제 \n",
    "1. 특수문자(escape 수업시간예제\n",
    "2. 기본자료형 str형의 slice \n",
    "3. dict에서 새로운 데이터 추가\n",
    "4. set 수업\n",
    "5. 동전 교환 프로그램\n",
    "6. 숫자를 입력받아 짝수합, 홀수합\n",
    "7. 파일처리\n",
    "8. 예외처리\n",
    "9. map \n",
    "10 정규 표현식\n"
   ]
  },
  {
   "cell_type": "markdown",
   "metadata": {},
   "source": [
    "# 모듈 이름이 길면 as 축약형 가능\n",
    "- import 모듈명\n",
    "- import 모듈명 as 별칭\n",
    "- from 모듈명 import 변수, 함수, 클래스\n",
    "     - 사용할때 모듈명.함수명  >> 함수명  모듈명.클래스명 >> 클래스명 축약가능\n",
    "- from 모듈명 import *  그파일에 있는 거의 모든걸 쓰면 좋음 (메모리 낭비심함)\n",
    "- from 모듈명 import 이름(변수,함수,클래스) as 병칭\n",
    "\n",
    "### 위치를 참조하는 방법\n",
    "    - 같은 경로  (anaconda3 > lib > site-packages 재설치시 안좋음)\n",
    "    - 기존 모듈 설치 경로\n",
    "    - path 경로 \n",
    "        - sys.path.append(\"경로 추가\")\n",
    "        - 제어판>환경변수 : pythonpath"
   ]
  },
  {
   "cell_type": "code",
   "execution_count": 2,
   "metadata": {
    "scrolled": true
   },
   "outputs": [
    {
     "ename": "NameError",
     "evalue": "name 'O' is not defined",
     "output_type": "error",
     "traceback": [
      "\u001b[1;31m---------------------------------------------------------------------------\u001b[0m",
      "\u001b[1;31mNameError\u001b[0m                                 Traceback (most recent call last)",
      "\u001b[1;32m<ipython-input-2-5fe225bde2b1>\u001b[0m in \u001b[0;36m<module>\u001b[1;34m\u001b[0m\n\u001b[1;32m----> 1\u001b[1;33m \u001b[1;32mimport\u001b[0m \u001b[0mmoduleTest\u001b[0m\u001b[1;33m\u001b[0m\u001b[1;33m\u001b[0m\u001b[0m\n\u001b[0m\u001b[0;32m      2\u001b[0m \u001b[1;33m\u001b[0m\u001b[0m\n",
      "\u001b[1;32m~\\CHOI\\moduleTest.py\u001b[0m in \u001b[0;36m<module>\u001b[1;34m\u001b[0m\n\u001b[0;32m      4\u001b[0m     \u001b[0mprint\u001b[0m\u001b[1;33m(\u001b[0m\u001b[1;34m\"func1함수 호출 : \"\u001b[0m\u001b[1;33m,\u001b[0m \u001b[0marg1\u001b[0m\u001b[1;33m,\u001b[0m \u001b[0marg2\u001b[0m\u001b[1;33m)\u001b[0m\u001b[1;33m\u001b[0m\u001b[1;33m\u001b[0m\u001b[0m\n\u001b[0;32m      5\u001b[0m \u001b[1;33m\u001b[0m\u001b[0m\n\u001b[1;32m----> 6\u001b[1;33m \u001b[1;32mclass\u001b[0m \u001b[0mCtest1\u001b[0m\u001b[1;33m:\u001b[0m\u001b[1;33m\u001b[0m\u001b[1;33m\u001b[0m\u001b[0m\n\u001b[0m\u001b[0;32m      7\u001b[0m     \u001b[0mname\u001b[0m \u001b[1;33m=\u001b[0m \u001b[0mstr\u001b[0m\u001b[1;33m(\u001b[0m\u001b[1;33m)\u001b[0m\u001b[1;33m\u001b[0m\u001b[1;33m\u001b[0m\u001b[0m\n\u001b[0;32m      8\u001b[0m     \u001b[0mage\u001b[0m \u001b[1;33m=\u001b[0m \u001b[0mint\u001b[0m\u001b[1;33m(\u001b[0m\u001b[1;33m)\u001b[0m\u001b[1;33m\u001b[0m\u001b[1;33m\u001b[0m\u001b[0m\n",
      "\u001b[1;32m~\\CHOI\\moduleTest.py\u001b[0m in \u001b[0;36mCtest1\u001b[1;34m()\u001b[0m\n\u001b[0;32m      8\u001b[0m     \u001b[0mage\u001b[0m \u001b[1;33m=\u001b[0m \u001b[0mint\u001b[0m\u001b[1;33m(\u001b[0m\u001b[1;33m)\u001b[0m\u001b[1;33m\u001b[0m\u001b[1;33m\u001b[0m\u001b[0m\n\u001b[0;32m      9\u001b[0m \u001b[1;33m\u001b[0m\u001b[0m\n\u001b[1;32m---> 10\u001b[1;33m     \u001b[1;32mdef\u001b[0m \u001b[0m__init__\u001b[0m\u001b[1;33m(\u001b[0m\u001b[0mself\u001b[0m\u001b[1;33m,\u001b[0m \u001b[0mname\u001b[0m \u001b[1;33m=\u001b[0m \u001b[1;32mNone\u001b[0m\u001b[1;33m,\u001b[0m \u001b[0mage\u001b[0m  \u001b[1;33m=\u001b[0m \u001b[0mO\u001b[0m\u001b[1;33m)\u001b[0m\u001b[1;33m:\u001b[0m\u001b[1;33m\u001b[0m\u001b[1;33m\u001b[0m\u001b[0m\n\u001b[0m\u001b[0;32m     11\u001b[0m         \u001b[0mself\u001b[0m\u001b[1;33m.\u001b[0m\u001b[0mname\u001b[0m \u001b[1;33m=\u001b[0m \u001b[0mname\u001b[0m\u001b[1;33m\u001b[0m\u001b[1;33m\u001b[0m\u001b[0m\n\u001b[0;32m     12\u001b[0m         \u001b[0mself\u001b[0m\u001b[1;33m.\u001b[0m\u001b[0mage\u001b[0m \u001b[1;33m=\u001b[0m \u001b[0mage\u001b[0m\u001b[1;33m\u001b[0m\u001b[1;33m\u001b[0m\u001b[0m\n",
      "\u001b[1;31mNameError\u001b[0m: name 'O' is not defined"
     ]
    }
   ],
   "source": [
    "\n",
    "import moduleTest\n",
    "\n"
   ]
  },
  {
   "cell_type": "code",
   "execution_count": null,
   "metadata": {},
   "outputs": [],
   "source": [
    "\n",
    "moduleTest.func1(10,20)\n",
    "ob1 = moduleTest.Ctest1(\"홍길동\",30)\n",
    "ob1.show()"
   ]
  },
  {
   "cell_type": "code",
   "execution_count": 3,
   "metadata": {},
   "outputs": [
    {
     "data": {
      "text/plain": [
       "'\\n현재 폴더 내에 \\n'"
      ]
     },
     "execution_count": 3,
     "metadata": {},
     "output_type": "execute_result"
    }
   ],
   "source": [
    "\"\"\"\n",
    "현재 폴더 내에 \n",
    "\"\"\""
   ]
  },
  {
   "cell_type": "markdown",
   "metadata": {},
   "source": [
    "# 예외처리\n",
    " - 자연스러운 예외 메시지를 출력\n",
    " - 프로그램의 비정상적인 종료를 방지\n",
    " \n",
    "### 문법\n",
    "\n",
    "    try:\n",
    "        코드 \n",
    "    except [예외처리 클래스 [as 변수]]:\n",
    "        코드\n",
    "        \n",
    "- 어떤애러가 낫는지 알기위해 도큐먼트 , 또는 에러 발생시키고 클래스 이름 알기\n",
    "# 클래중에 큰 부모 클래스인 Exception  사용 (원인파악힘듬)\n",
    "# 나머지 코드 실행안하는데 finally는 실행함 오류에 return 하면거기서 종료\n",
    "# 강력한 종료 기능 = sys.exit() 완전 바로 즉시"
   ]
  },
  {
   "cell_type": "code",
   "execution_count": 6,
   "metadata": {},
   "outputs": [
    {
     "name": "stderr",
     "output_type": "stream",
     "text": [
      "ERROR:root:Internal Python error in the inspect module.\n",
      "Below is the traceback from this internal error.\n",
      "\n"
     ]
    },
    {
     "name": "stdout",
     "output_type": "stream",
     "text": [
      "5.0\n",
      "3\n",
      "여기는 finally영역\n",
      "나머지 코드 실행\n",
      "2.5\n",
      "5\n",
      "여기는 finally영역\n",
      "나머지 코드 실행\n",
      "0으로 나누면 안됩니다. division by zero\n",
      "여기는 finally영역\n",
      "Traceback (most recent call last):\n",
      "  File \"<ipython-input-6-fcfcfe5afa35>\", line 5, in test\n",
      "    a = 10/num\n",
      "ZeroDivisionError: division by zero\n",
      "\n",
      "During handling of the above exception, another exception occurred:\n",
      "\n",
      "Traceback (most recent call last):\n",
      "  File \"C:\\Users\\acorn\\Anaconda3\\lib\\site-packages\\IPython\\core\\interactiveshell.py\", line 3331, in run_code\n",
      "    exec(code_obj, self.user_global_ns, self.user_ns)\n",
      "  File \"<ipython-input-6-fcfcfe5afa35>\", line 25, in <module>\n",
      "    test(0)\n",
      "  File \"<ipython-input-6-fcfcfe5afa35>\", line 11, in test\n",
      "    sys.exit()\n",
      "SystemExit\n",
      "\n",
      "During handling of the above exception, another exception occurred:\n",
      "\n",
      "Traceback (most recent call last):\n",
      "  File \"C:\\Users\\acorn\\Anaconda3\\lib\\site-packages\\IPython\\core\\ultratb.py\", line 1151, in get_records\n",
      "    return _fixed_getinnerframes(etb, number_of_lines_of_context, tb_offset)\n",
      "  File \"C:\\Users\\acorn\\Anaconda3\\lib\\site-packages\\IPython\\core\\ultratb.py\", line 319, in wrapped\n",
      "    return f(*args, **kwargs)\n",
      "  File \"C:\\Users\\acorn\\Anaconda3\\lib\\site-packages\\IPython\\core\\ultratb.py\", line 353, in _fixed_getinnerframes\n",
      "    records = fix_frame_records_filenames(inspect.getinnerframes(etb, context))\n",
      "  File \"C:\\Users\\acorn\\Anaconda3\\lib\\inspect.py\", line 1502, in getinnerframes\n",
      "    frameinfo = (tb.tb_frame,) + getframeinfo(tb, context)\n",
      "AttributeError: 'tuple' object has no attribute 'tb_frame'\n"
     ]
    },
    {
     "ename": "SystemExit",
     "evalue": "",
     "output_type": "error",
     "traceback": [
      "An exception has occurred, use %tb to see the full traceback.\n",
      "\u001b[1;31m---------------------------------------------------------------------------\u001b[0m",
      "\nDuring handling of the above exception, another exception occurred:\n",
      "\u001b[1;31mSystemExit\u001b[0m\n"
     ]
    },
    {
     "name": "stderr",
     "output_type": "stream",
     "text": [
      "C:\\Users\\acorn\\Anaconda3\\lib\\site-packages\\IPython\\core\\interactiveshell.py:3339: UserWarning: To exit: use 'exit', 'quit', or Ctrl-D.\n",
      "  warn(\"To exit: use 'exit', 'quit', or Ctrl-D.\", stacklevel=1)\n"
     ]
    }
   ],
   "source": [
    "import sys\n",
    "\n",
    "def test(num):\n",
    "    try:\n",
    "        a = 10/num\n",
    "        print(a)\n",
    "        b = [1,2,3,4,5,6]\n",
    "        print(b[num])\n",
    "    except ZeroDivisionError as  ex:\n",
    "        print(\"0으로 나누면 안됩니다.\",ex)\n",
    "        sys.exit()\n",
    "    except IndexError:\n",
    "        print(\"인덱스 범위를 초과했습니다.\")\n",
    "        \n",
    "    except Exception:\n",
    "        print(\"일반 오류입니다.\")\n",
    "        \n",
    "    finally:\n",
    "        print(\"여기는 finally영역\")\n",
    "        \n",
    "    print(\"나머지 코드 실행\")\n",
    "    \n",
    "test(2)\n",
    "test(4)\n",
    "test(0)"
   ]
  },
  {
   "cell_type": "markdown",
   "metadata": {},
   "source": [
    "    try :\n",
    "        코드\n",
    "    except [예외처리 클래스 [as 변수]]:\n",
    "        코드\n",
    "    [else:\n",
    "        코드(예외가 발생하지않았을때 발생하는 부분)\n",
    "    ]\n",
    "    [finally:\n",
    "        코드(예외발생과 무난하게 항상 실행)\n",
    "    ]"
   ]
  },
  {
   "cell_type": "code",
   "execution_count": 10,
   "metadata": {},
   "outputs": [
    {
     "name": "stdout",
     "output_type": "stream",
     "text": [
      "third\n",
      "에러원인 : division by zero\n"
     ]
    },
    {
     "name": "stderr",
     "output_type": "stream",
     "text": [
      "Traceback (most recent call last):\n",
      "  File \"<ipython-input-10-5c182c7c1dc0>\", line 6, in third\n",
      "    a = 10/0\n",
      "ZeroDivisionError: division by zero\n"
     ]
    }
   ],
   "source": [
    "import traceback\n",
    "\n",
    "def third():\n",
    "    print(\"third\")\n",
    "    try:\n",
    "        a = 10/0\n",
    "        print(a)\n",
    "    except ZeroDivisionError as err:\n",
    "        print(\"에러원인 :\",err)\n",
    "        traceback.print_exc()\n",
    "def second():\n",
    "    third()\n",
    "def first():\n",
    "    second()\n",
    "    \n",
    "first()"
   ]
  },
  {
   "cell_type": "markdown",
   "metadata": {},
   "source": [
    "# import traceback \n",
    "## traceback.print_exc() - 줄번호 말해줌\n",
    "\n",
    "# raise 키워드 예외에대한 test 사용자 정의 예외 처리 클래스 작성"
   ]
  },
  {
   "cell_type": "code",
   "execution_count": 14,
   "metadata": {},
   "outputs": [
    {
     "name": "stdout",
     "output_type": "stream",
     "text": [
      "5.0\n",
      "0으로 나누면 안되 ㅡㅡ . \n"
     ]
    }
   ],
   "source": [
    "#raise : 에외 Test\n",
    "\n",
    "def test():\n",
    "    try:\n",
    "        a=10/2\n",
    "        print(a)\n",
    "        raise ZeroDivisionError\n",
    "    except ZeroDivisionError as err:\n",
    "        print(\"0으로 나누면 안되 ㅡㅡ .\",err)\n",
    "        \n",
    "test()"
   ]
  },
  {
   "cell_type": "code",
   "execution_count": 31,
   "metadata": {},
   "outputs": [
    {
     "name": "stdout",
     "output_type": "stream",
     "text": [
      "프로그램 시작\n",
      "5.0\n",
      "음수로 나눌 수 없다.\n"
     ]
    }
   ],
   "source": [
    "# 음수로 나누었을 때 예외발생\n",
    "class NegativeDivideError(Exception):\n",
    "    pass\n",
    "\n",
    "def positiveDivide(a,b):\n",
    "    if b<0:\n",
    "        raise NegativeDivideError\n",
    "    return a/b\n",
    "\n",
    "def main():\n",
    "    print(\"프로그램 시작\")\n",
    "    try:\n",
    "        result = positiveDivide(10,2)\n",
    "        print(result)\n",
    "    \n",
    "        result = positiveDivide(10,-2)\n",
    "        print(result)\n",
    "    except NegativeDivideError:\n",
    "        print(\"음수로 나눌 수 없다.\")\n",
    "if __name__ == \"__main__\":\n",
    "    main()"
   ]
  },
  {
   "cell_type": "code",
   "execution_count": 20,
   "metadata": {},
   "outputs": [
    {
     "name": "stdout",
     "output_type": "stream",
     "text": [
      "-5.0\n"
     ]
    }
   ],
   "source": [
    "print(10/-2)"
   ]
  },
  {
   "cell_type": "markdown",
   "metadata": {},
   "source": [
    "# Regular Expression\n",
    "- https://docs.python.org/3/library/re.html?highlight=regular%20expression\n",
    "- 반복 \n",
    " *: 0회 이상 ab* 앞에오는 문자의 반복 \n",
    "     ab* : a, ab, abb , abbb, abbb...\n",
    "     10*1 : 11, lol, loo , loool ..\n",
    "     \n",
    " +: 1회 이상\n",
    "  ab + : ab, abb, abbb, ...\n",
    " \n",
    " ?: 0회 또는 1회  (없거나 있거나)\n",
    "     ab? : a, ab\n",
    "     \n",
    " {m} : m 회 반복\n",
    "    a{3}bc :aaabc \n",
    "    \n",
    "   {m,n} : m 회부터 n회까지 반복\n",
    "   a{2,4}bc : aabc, aaabc, aaaabc\n",
    "   \n",
    "   - 매칭 메타 문자\n",
    "       . : 줄바꿈 문자를 제외한 모든 문자와 매치(특수문자도됨)\n",
    "           a.b : aab, abb, acb, adb,\n",
    "       ^ : 문자열의 시작과 매치\n",
    "        ^a : a, ab, abc\n",
    "        $ : 문자열의 마지막과 매치 ( 앞에는 어떤것도 상관없고 마지막이 항상 일치해야함)\n",
    "         a$ :  zaba, cccca, dba\n",
    "         \n",
    "         [] : 문자 집합중 한문자를 매치\n",
    "         [abc]xyz : axyz, bxyz, cxyz\n",
    "         [a-z]bc  : (앞에 a~z 까지 아무거나)bc , abc, bbc, dbc\n",
    "         소문자 대문자 다오게하려면 [a-zA-Z]hello : ahello, Ahello...\n",
    "         [a | b]hello : (ahello 나 bhello )\n",
    "         a[.]b : a.b \n",
    "         [a^bc]hello : ahello, chello  (^ 는 제외하고싶은거)\n",
    "         - 특수문자(\\문자)\n",
    "          \\d : 모든숫자와 매치 숫자중 하나 있어야된다. \\d 개수 만큼 숫자개수도 늘음\n",
    "           ab\\d\\dc: (ab와 c사이에 숫자 2개가 와야된다\n",
    "           ab[0-9][0-9]c 똑같은 표현임 \n",
    "           \n",
    "           \\D : 숫자만 아닌 문자와 매치 (모든숫자포함) \n",
    "           \\s : space약자로 공백과 매치 \n",
    "           \\S : 공백이 아닌 모든 문자 \n",
    "           \\w : word(문자단위) 숫자 + 문자 \n",
    "           \\W : 숫자 또는 문자가 아닌 모든 문자 와 매치 \n",
    "           \n",
    "          - python 에서 제공하는 객체 또는 메서드\n",
    "              compile(): 정규 표현식 객체 생성\n",
    "              match() : 문자열의 처음부터 정규식과 매치되는지 조사\n",
    "              search() : 문자열 전체를 검색하여 정규식과 매치되는지 조사\n",
    "              split() : 문자열 분리\n",
    "              findall() : 정규식과 매치되는 모든 문자열을 리스트로 리턴\n",
    "              finditer() : 정규식과 매치되는 모든 문자열을 반복 가능한 객체로 리턴\n",
    "              sub() : 변경, 교체 "
   ]
  },
  {
   "cell_type": "code",
   "execution_count": 46,
   "metadata": {},
   "outputs": [
    {
     "name": "stdout",
     "output_type": "stream",
     "text": [
      "True\n",
      "False\n",
      "----------------\n",
      "True\n",
      "False\n",
      "True\n",
      "True\n",
      "True\n"
     ]
    }
   ],
   "source": [
    "import re\n",
    "\n",
    "#a = re.compile() # 객체 생성하는거고 변수로 주소를 설정해주기 #주소저장할 변수 = re.compile(찾을정규식)\n",
    "p = re.compile(\"[0-9] [a-z]+ .+\")\n",
    "print(bool(p.match(\"3 agc didjlaj;\")))\n",
    "print(bool(p.match(\"abc 10 ajldja\")))\n",
    "print(\"----------------\")\n",
    "      #함수를 사용할껀지 객체생성해서 할껀지 re의 match 함수쓴다 (\"정규식\",\"찾을문자열\")\n",
    "print(bool(re.match(\"[0-9]*th\", \"35th\"))) # match는 처음부터 봄\n",
    "print(bool(re.match(\"[0-9]*th\", \"   35th\"))) # 얘는 처음에 빈공간이라 false로 나옴\n",
    "print(bool(re.search(\"[0-9]*th\", \"   35th\"))) # search는 전체에서 찾음 \n",
    "print(bool(re.search(\"[0-9]*th\", \"a;lain;slen   35th alisne;liasnef\")))\n",
    "print(bool(re.match(\"[0-9]*th\", \"35th asdfasdf\")))"
   ]
  },
  {
   "cell_type": "code",
   "execution_count": 47,
   "metadata": {},
   "outputs": [
    {
     "name": "stdout",
     "output_type": "stream",
     "text": [
      "False\n"
     ]
    }
   ],
   "source": [
    "# \"010-222-3333\"\n",
    "import re\n",
    "\n",
    "a = re.compile(\"[0-9]-+[222]-+[3333]\")\n",
    "m = \"010-222-3333\"\n",
    "\n",
    "print(bool(a.match(m)))"
   ]
  },
  {
   "cell_type": "code",
   "execution_count": 53,
   "metadata": {},
   "outputs": [
    {
     "name": "stdout",
     "output_type": "stream",
     "text": [
      "True\n"
     ]
    }
   ],
   "source": [
    "# \"010-222-3333\"\n",
    "import re\n",
    "\n",
    "a = re.compile(\"[0][1][0][-][2][2][2][-][3][3][3][3]\")\n",
    "m = \"010-222-3333\"\n",
    "\n",
    "print(bool(a.match(\"010-222-3333\")))"
   ]
  },
  {
   "cell_type": "code",
   "execution_count": 57,
   "metadata": {},
   "outputs": [
    {
     "name": "stdout",
     "output_type": "stream",
     "text": [
      "['life', 'is', 'too', 'short']\n",
      "<callable_iterator object at 0x000001E977ACDC48>\n",
      "<re.Match object; span=(0, 4), match='life'>\n",
      "<re.Match object; span=(10, 12), match='is'>\n",
      "<re.Match object; span=(17, 20), match='too'>\n",
      "<re.Match object; span=(24, 29), match='short'>\n"
     ]
    }
   ],
   "source": [
    "p = re.compile(\"[a-z]+\") # 앞자리 소문자 \n",
    "m = p.findall(\"life 3333 is 222 too 10 short\")\n",
    "print(m)\n",
    "mf = p.finditer(\"life 3333 is 222 too 10 short\")\n",
    "print(mf) #주소로 알려줌 #match객체를 여러개 이어줌\n",
    "\n",
    "for i in mf:\n",
    "    print(i)"
   ]
  },
  {
   "cell_type": "code",
   "execution_count": 63,
   "metadata": {},
   "outputs": [
    {
     "name": "stdout",
     "output_type": "stream",
     "text": [
      "True\n",
      "True\n"
     ]
    }
   ],
   "source": [
    "import re\n",
    "a = re.compile(\"\\d{3}[-]\\d{3}[-]\\d{4}\")\n",
    "print(bool(a.match(\"010-222-3333\")))\n",
    "print(bool(re.match(\"\\d{3}-\\d{3}-\\d{4}\",\"010-222-3333\")))"
   ]
  },
  {
   "cell_type": "code",
   "execution_count": 62,
   "metadata": {},
   "outputs": [
    {
     "name": "stdout",
     "output_type": "stream",
     "text": [
      "['1', '2', '3', '4', '5', '5', '5', '6']\n",
      "['1234', '555', '6']\n",
      "['12', '34', '55']\n",
      "['123', '555']\n"
     ]
    }
   ],
   "source": [
    "data = \"1234 abc가나다ABC_555_6\"\n",
    "print(re.findall(\"[0-9]\",data))\n",
    "print(re.findall(\"[0-9]+\",data))\n",
    "print(re.findall(\"[0-9]{2}\",data))\n",
    "print(re.findall(\"[0-9]{2,3}\",data))"
   ]
  },
  {
   "cell_type": "code",
   "execution_count": 71,
   "metadata": {},
   "outputs": [
    {
     "name": "stdout",
     "output_type": "stream",
     "text": [
      "['abc', 'mbc']\n",
      "['1']\n",
      "['234 abc가나다ABC_555_6 mbc air air']\n",
      "['abc', 'air', 'air']\n"
     ]
    }
   ],
   "source": [
    "data = \"1234 abc가나다ABC_555_6 mbc air air\"\n",
    "print(re.findall(\".bc\",data))\n",
    "print(re.findall(\"^1+\",data)) #시작이 1로 시작\n",
    "print(re.findall(\"[^1]+\",data))\n",
    "print(re.findall(\"a..\",data))"
   ]
  },
  {
   "cell_type": "code",
   "execution_count": 85,
   "metadata": {},
   "outputs": [
    {
     "name": "stdout",
     "output_type": "stream",
     "text": [
      "['sdfair']\n"
     ]
    }
   ],
   "source": [
    "data1 = \"1234 abc가나다ABC_555_6 mbc air asdfair\"\n",
    "\n",
    "print(re.findall(\"...air$\",data1))"
   ]
  },
  {
   "cell_type": "code",
   "execution_count": 79,
   "metadata": {},
   "outputs": [
    {
     "name": "stdout",
     "output_type": "stream",
     "text": [
      "['8', '0', '1', '0', '0', '5', '0']\n",
      "['80', '10', '50']\n",
      "['80', '10', '50']\n"
     ]
    }
   ],
   "source": [
    "data = \"tom 80, james 100, oscar 50\"\n",
    "print(re.findall(\"\\d\",data))\n",
    "print(re.findall(\"\\d\\d\",data))\n",
    "print(re.findall(\"\\d{2}\",data))"
   ]
  },
  {
   "cell_type": "code",
   "execution_count": 87,
   "metadata": {},
   "outputs": [
    {
     "name": "stdout",
     "output_type": "stream",
     "text": [
      "['tom 80', ' james 100', ' oscar 50']\n"
     ]
    }
   ],
   "source": [
    "print(data.split(\",\"))"
   ]
  },
  {
   "cell_type": "code",
   "execution_count": 89,
   "metadata": {},
   "outputs": [
    {
     "name": "stdout",
     "output_type": "stream",
     "text": [
      "['mbc,kbs', 'sbs:ytn']\n",
      "['mbc', 'kbs sbs:ytn']\n"
     ]
    }
   ],
   "source": [
    "#split()\n",
    "print(\"mbc,kbs sbs:ytn\".split())\n",
    "print(\"mbc,kbs sbs:ytn\".split(\",\"))"
   ]
  },
  {
   "cell_type": "code",
   "execution_count": 95,
   "metadata": {},
   "outputs": [
    {
     "data": {
      "text/plain": [
       "['mbc', 'kbs', 'sbs', 'ytn']"
      ]
     },
     "execution_count": 95,
     "metadata": {},
     "output_type": "execute_result"
    }
   ],
   "source": [
    "re.split(\":|,| \",\"mbc,kbs sbs:ytn\")"
   ]
  },
  {
   "cell_type": "code",
   "execution_count": 98,
   "metadata": {},
   "outputs": [
    {
     "data": {
      "text/plain": [
       "['mbc', 'kbs', 'sbs', 'ytn']"
      ]
     },
     "execution_count": 98,
     "metadata": {},
     "output_type": "execute_result"
    }
   ],
   "source": [
    "re.split(\"\\W\",\"mbc,kbs sbs:ytn\")"
   ]
  },
  {
   "cell_type": "markdown",
   "metadata": {},
   "source": [
    "# 여러기준으로 나눌떄는 re.split(\"특수문자들,, 또는 \\W\",data)"
   ]
  },
  {
   "cell_type": "code",
   "execution_count": 99,
   "metadata": {},
   "outputs": [],
   "source": [
    "m = re.sub(\"[0-9]+\",\"888\",\"1234 abc 가나다ABC_567\") #2번째인자 교체할것 , 1번째 인자 정규표현식 , 숫자한자리 이상인것 [0-9]+"
   ]
  },
  {
   "cell_type": "code",
   "execution_count": 100,
   "metadata": {},
   "outputs": [
    {
     "name": "stdout",
     "output_type": "stream",
     "text": [
      "888 abc 가나다ABC_888\n"
     ]
    }
   ],
   "source": [
    "print(m)"
   ]
  },
  {
   "cell_type": "code",
   "execution_count": 101,
   "metadata": {},
   "outputs": [
    {
     "name": "stdout",
     "output_type": "stream",
     "text": [
      "mbc,kbs,sbs,ytn\n"
     ]
    }
   ],
   "source": [
    "m1 = re.sub(\"\\W\",\",\",\"mbc,kbs sbs:ytn\") # sub는 string으로 반환한다.\n",
    "print(m1)"
   ]
  },
  {
   "cell_type": "markdown",
   "metadata": {},
   "source": [
    "# 다양한 특수문자들 ,로 바꾸기 "
   ]
  },
  {
   "cell_type": "code",
   "execution_count": 115,
   "metadata": {},
   "outputs": [
    {
     "name": "stdout",
     "output_type": "stream",
     "text": [
      "None\n",
      "------------\n",
      "(0, 6)\n"
     ]
    }
   ],
   "source": [
    "# match, search 객체의 메서드\n",
    "p = re.compile(\"[a-z]+\")\n",
    "\n",
    "m =p.match(\" 123 !? ptython\")\n",
    "print(m)\n",
    "#print(m.group()) # match객체에서 찾은 문자열만 나오게하는것 group\n",
    "#print(m.start(),m.end()) #찾은거의 시작위치와 끝위치\n",
    "#튜프 ㄹ로 전달 할때  , 중복된것은 뺀다.\n",
    "#print(m.span()) #튜플형태의 시작위치 끝위치\n",
    "print(\"------------\")\n",
    "m1 = p.search(\"python 123 !? python\") #ptthon  \n",
    "m1 = print(m1.span())"
   ]
  },
  {
   "cell_type": "markdown",
   "metadata": {},
   "source": [
    "# 컴파일 옵션 : S( or DOTALL), I( or IGNORECASE), M( or MULTILINE)\n",
    "## . DOT 중에서 줄바꿈도 포함하고 싶을때 주는 옵션 , re.compile(\"정규식\",re.S)\n",
    "## [a-zA-Z] >>[a-z]  대소문자 구별하고싶지 않을떄 re.compile(\"정규식\",re.I)"
   ]
  },
  {
   "cell_type": "code",
   "execution_count": 117,
   "metadata": {},
   "outputs": [
    {
     "name": "stdout",
     "output_type": "stream",
     "text": [
      "<re.Match object; span=(0, 3), match='a+b'>\n",
      "<re.Match object; span=(0, 3), match='a\\nb'>\n"
     ]
    }
   ],
   "source": [
    "p = re.compile(\"a.b\", re.S)\n",
    "\n",
    "m1 = p.match(\"a+b\")\n",
    "\n",
    "print(m1)\n",
    "\n",
    "m2 = p.match(\"a\\nb\") # 줄바꿈 문자 제외하고 모든문자 = .\n",
    "print(m2)"
   ]
  },
  {
   "cell_type": "code",
   "execution_count": 119,
   "metadata": {},
   "outputs": [
    {
     "name": "stdout",
     "output_type": "stream",
     "text": [
      "<re.Match object; span=(0, 1), match='p'>\n",
      "<re.Match object; span=(0, 1), match='P'>\n"
     ]
    }
   ],
   "source": [
    "p = re.compile(\"[a-z]\",re.I)\n",
    "print(p.match(\"python\"))\n",
    "print(p.match(\"Python\"))"
   ]
  },
  {
   "cell_type": "code",
   "execution_count": 128,
   "metadata": {},
   "outputs": [
    {
     "name": "stdout",
     "output_type": "stream",
     "text": [
      "['python one', 'python two', 'python three']\n"
     ]
    }
   ],
   "source": [
    "data = \"\"\"python one\n",
    "life is too short\n",
    "python two\n",
    "you need python\n",
    "python three\n",
    "\"\"\"\n",
    "\n",
    "p = re.compile(\"^[p|P]ython\\s\\w+\",re.M) #파이썬으로 시작하고, 공백있고, 1문자 이상 \n",
    "\n",
    "print(p.findall(data))"
   ]
  },
  {
   "cell_type": "code",
   "execution_count": 150,
   "metadata": {},
   "outputs": [
    {
     "name": "stdout",
     "output_type": "stream",
     "text": [
      "['abc1.html', 'abc2.html', 'abc3.html']\n"
     ]
    }
   ],
   "source": [
    "data = \"\"\"\n",
    "<a href=\"abc1.html\">abc1</a>\n",
    "<a href=\"abc2.html\">abc1</a>\n",
    "<a href=\"abc3.html\">abc1</a>\n",
    "\"\"\"\n",
    "p =re.compile(\"[abc]{3}\\S{6}\")\n",
    "print(p.findall(data))"
   ]
  },
  {
   "cell_type": "code",
   "execution_count": 148,
   "metadata": {},
   "outputs": [
    {
     "name": "stdout",
     "output_type": "stream",
     "text": [
      "['abc1.html', 'abc2.html', 'abc3.html']\n"
     ]
    }
   ],
   "source": [
    "data = \"\"\"\n",
    "<a href=\"abc1.html\">abc1</a>\n",
    "<a href=\"abc2.html\">abc1</a>\n",
    "<a href=\"abc3.html\">abc1</a>\n",
    "\"\"\"\n",
    "p =re.findall('href=\"(.+)\"',data)\n",
    "print(p)\n",
    "\n",
    "# p = re.findall(\"abc\\S6\",data)"
   ]
  },
  {
   "cell_type": "code",
   "execution_count": null,
   "metadata": {},
   "outputs": [],
   "source": []
  }
 ],
 "metadata": {
  "kernelspec": {
   "display_name": "Python 3",
   "language": "python",
   "name": "python3"
  },
  "language_info": {
   "codemirror_mode": {
    "name": "ipython",
    "version": 3
   },
   "file_extension": ".py",
   "mimetype": "text/x-python",
   "name": "python",
   "nbconvert_exporter": "python",
   "pygments_lexer": "ipython3",
   "version": "3.7.6"
  }
 },
 "nbformat": 4,
 "nbformat_minor": 4
}
