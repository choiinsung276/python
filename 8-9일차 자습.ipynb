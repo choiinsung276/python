{
 "cells": [
  {
   "cell_type": "code",
   "execution_count": 3,
   "metadata": {},
   "outputs": [
    {
     "name": "stdout",
     "output_type": "stream",
     "text": [
      "\n",
      "숫자를입력하시오\n",
      "10\n",
      "합계는 55 입니다.\n"
     ]
    }
   ],
   "source": [
    "message = \"\"\"\n",
    "숫자를입력하시오\n",
    "\"\"\"\n",
    "def sum1(num):\n",
    "    sum = int()\n",
    "    for num in range(1,num+1):\n",
    "        sum += num \n",
    "    return sum\n",
    "    \n",
    "num = int(input(message))\n",
    "print(\"합계는 {} 입니다.\".format(sum1(num)))"
   ]
  },
  {
   "cell_type": "code",
   "execution_count": 3,
   "metadata": {},
   "outputs": [
    {
     "name": "stdout",
     "output_type": "stream",
     "text": [
      "<before>\n",
      "[5, 1, 3, 7, 2, 0]\n",
      "[0, 1, 3, 7, 2, 5] \n",
      "\n",
      "[0, 1, 3, 7, 2, 5] \n",
      "\n",
      "[0, 1, 2, 7, 3, 5] \n",
      "\n",
      "[0, 1, 2, 3, 7, 5] \n",
      "\n",
      "[0, 1, 2, 3, 5, 7] \n",
      "\n",
      "<After Sort>\n",
      "[0, 1, 2, 3, 5, 7]\n"
     ]
    }
   ],
   "source": [
    "import random\n",
    "def selected_sort(random_list):\n",
    "    for sel in range(len(random_list)-1):\n",
    "        min = random_list[sel]\n",
    "        minindex = sel\n",
    "        #find min value\n",
    "        for step in range(sel+1, len(random_list)):\n",
    "            if min>random_list[step]:\n",
    "                min = random_list[step]\n",
    "                minindex = step\n",
    "        random_list[minindex] = random_list[sel]\n",
    "        random_list[sel] = min\n",
    "        print(random_list,'\\n')\n",
    "list = [5,1,3,7,2,0]\n",
    "print(\"<before>\")\n",
    "print(list)\n",
    "selected_sort(list)\n",
    "print(\"<After Sort>\")\n",
    "print(list)"
   ]
  },
  {
   "cell_type": "code",
   "execution_count": null,
   "metadata": {},
   "outputs": [],
   "source": [
    "import random\n",
    "import time\n",
    "\n",
    "compare_counter = 0 # 비교 계쑤\n",
    "swap_counter = 0 # 바꿀 계수\n",
    "\n",
    "def insertion_sort(my_list)"
   ]
  }
 ],
 "metadata": {
  "kernelspec": {
   "display_name": "Python 3",
   "language": "python",
   "name": "python3"
  },
  "language_info": {
   "codemirror_mode": {
    "name": "ipython",
    "version": 3
   },
   "file_extension": ".py",
   "mimetype": "text/x-python",
   "name": "python",
   "nbconvert_exporter": "python",
   "pygments_lexer": "ipython3",
   "version": "3.7.6"
  }
 },
 "nbformat": 4,
 "nbformat_minor": 4
}
