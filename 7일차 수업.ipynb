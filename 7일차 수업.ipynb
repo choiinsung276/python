{
 "cells": [
  {
   "cell_type": "markdown",
   "metadata": {},
   "source": [
    "# 상속 (확장을 거의함 안하면 의미가 없어서"
   ]
  },
  {
   "cell_type": "code",
   "execution_count": 7,
   "metadata": {
    "scrolled": true
   },
   "outputs": [
    {
     "name": "stdout",
     "output_type": "stream",
     "text": [
      "현재속도는 100\n",
      "움직인다\n"
     ]
    }
   ],
   "source": [
    "class Animal:\n",
    "    def move(self):\n",
    "        print(\"움직인다\")\n",
    "        \n",
    "class Dog(Animal):\n",
    "    def bark(self):\n",
    "        print(\"멍멍~~\")\n",
    "        \n",
    "class Horse(Animal):\n",
    "    def speed(self,s):\n",
    "        print(\"현재속도는\", s)\n",
    "        \n",
    "h1 = Horse()\n",
    "h1.speed(100)\n",
    "h1.move()"
   ]
  },
  {
   "cell_type": "code",
   "execution_count": 4,
   "metadata": {},
   "outputs": [
    {
     "name": "stdout",
     "output_type": "stream",
     "text": [
      "멍멍~~\n",
      "움직인다\n"
     ]
    }
   ],
   "source": [
    "popee = Dog()\n",
    "popee.bark()\n",
    "popee.move()"
   ]
  },
  {
   "cell_type": "code",
   "execution_count": 21,
   "metadata": {},
   "outputs": [
    {
     "name": "stdout",
     "output_type": "stream",
     "text": [
      "30\n",
      "600\n",
      "7\n",
      "81\n"
     ]
    },
    {
     "data": {
      "text/plain": [
       "'0 으로 나눌 수 없다'"
      ]
     },
     "execution_count": 21,
     "metadata": {},
     "output_type": "execute_result"
    }
   ],
   "source": [
    "class Calculator:\n",
    "    def __init__(self, first=None, second=None):\n",
    "        self.first = first\n",
    "        self.second = second\n",
    "        \n",
    "    def setData(self, first=None, second=None):\n",
    "        self.first = first\n",
    "        self.second = second\n",
    "        \n",
    "    def sum(self):\n",
    "        return self.first + self.second\n",
    "    \n",
    "    def mul(self):\n",
    "        return self.first * self.second\n",
    "    \n",
    "    def div(self):\n",
    "        return self.first / self.second\n",
    "    \n",
    "    def sub(self):\n",
    "        return self.first - self.second\n",
    "    \n",
    "class Calc_v1(Calculator):\n",
    "    def pow(self):\n",
    "        return self.first ** self.second\n",
    "    \n",
    "    def div(self):\n",
    "        if self.second == 0:\n",
    "            return \"0 으로 나눌 수 없다\"\n",
    "        else:\n",
    "            return self.first/ self.second\n",
    "calc1 = Calc_v1()\n",
    "calc1.setData(10,20)\n",
    "print(calc1.sum())\n",
    "\n",
    "calc2 = Calculator(20,30)\n",
    "print(calc2.mul())\n",
    "\n",
    "calc3 = Calc_v1(3,4)\n",
    "print(calc3.sum())\n",
    "print(calc3.pow())\n",
    "\n",
    "calc1.setData(10,0)\n",
    "calc1.div()"
   ]
  },
  {
   "cell_type": "markdown",
   "metadata": {},
   "source": [
    "### 상속\n",
    "    - 상속 설계시 고려할점 \n",
    "        + 부모 클래스는 최소한의 코드로 작성\n",
    "        + 중복된 코드가 있어서는 안된다.\n",
    "        + 상속받은 자식 클래스는 반드시 기능을 확장 시켜야한다.\n",
    "        \n",
    "    - 다형성\n",
    "        +오버라이드(재정의, 상속과 관련): 상속받은 메서드를 고쳐서 사용\n",
    "        +오버로드(중복정의, 똑같은이름으로 여러개, 상속과 무관) 같은 이름으로 메서드를 여러개 작성\n",
    "        \n",
    "    - super(): 부모 객체에 접근하기 위한 주소를 리턴"
   ]
  },
  {
   "cell_type": "markdown",
   "metadata": {},
   "source": [
    "오버로드 파이썬에서는 안되는것\n",
    "\n",
    "class Test:\n",
    "    def display():\n",
    "        print(\"기본값 출력\")\n",
    "        \n",
    "    def display(a):\n",
    "        print(\"a 출력\",a)\n",
    "        \n",
    "    def display(a,b):\n",
    "        print(\"a,b출력\",a,b)"
   ]
  },
  {
   "cell_type": "code",
   "execution_count": 14,
   "metadata": {},
   "outputs": [],
   "source": [
    "class Test:\n",
    "    def display(self,a = None, b = None):\n",
    "        if a==None and b ==None:\n",
    "            print(\"기본값 출력\")\n",
    "        else:\n",
    "            print(a,b)"
   ]
  },
  {
   "cell_type": "code",
   "execution_count": 15,
   "metadata": {},
   "outputs": [
    {
     "name": "stdout",
     "output_type": "stream",
     "text": [
      "기본값 출력\n",
      "10 None\n",
      "10 20\n"
     ]
    }
   ],
   "source": [
    "t1 = Test()\n",
    "t1.display()\n",
    "t1.display(10)\n",
    "t1.display(10,20)"
   ]
  },
  {
   "cell_type": "code",
   "execution_count": null,
   "metadata": {},
   "outputs": [],
   "source": []
  },
  {
   "cell_type": "code",
   "execution_count": null,
   "metadata": {},
   "outputs": [],
   "source": []
  },
  {
   "cell_type": "markdown",
   "metadata": {},
   "source": [
    "# super()는 자식크래스에서 부모 클래스에 접근 하고싶을때 \n",
    "# super().부모변수\n",
    "\n",
    "# __age 에 a1.age해도 age변수 추가한것이지 \n",
    "바꾼것은 아님\n",
    "# 자식도 못씀 __age\n",
    "\n",
    "# 억지로 하려면 _Person__age\n",
    "# 직접 접근하지말라는 의도임\n",
    "\n",
    "# 직접접근하지말고 메서드로 간접접근해라!!!\n",
    "\n",
    "# 암묵적으로 setter getter "
   ]
  },
  {
   "cell_type": "code",
   "execution_count": 32,
   "metadata": {},
   "outputs": [
    {
     "name": "stdout",
     "output_type": "stream",
     "text": [
      "Employee 클래스\n",
      "나이 : 20, 하고싶은말 : 일하는 동물\n",
      "나이 : 30, 하고싶은말 : 일하는 동물\n"
     ]
    }
   ],
   "source": [
    "# super()\n",
    "\n",
    "class Person:\n",
    "    say = \"난 사람이야\"\n",
    "    __age = \"20\"\n",
    "    \n",
    "    def __init__(self,age):\n",
    "        print(\"Person 클래스\")\n",
    "        self.age = age\n",
    "        \n",
    "    def info(self):\n",
    "        print(\"나이 : {}, 하고싶은말 : {}\".format(self.__age, self.say))\n",
    "        \n",
    "    def setAge(self, age):\n",
    "        #검증 코드\n",
    "        self.__age = age\n",
    "        \n",
    "    def getAge(self,age):\n",
    "        return self.__age\n",
    "class Employee(Person):\n",
    "    say = \"일하는 동물\"\n",
    "    subject = \"근로자\"\n",
    "    \n",
    "    def __init__(self):\n",
    "        print(\"Employee 클래스\")\n",
    "\n",
    "    def einfo(self):\n",
    "        print(self.__age)\n",
    "\n",
    "        \n",
    "        \n",
    "a1 = Employee()\n",
    "a1.info()\n",
    "a1.age = 30\n",
    "a1.setAge(30)\n",
    "a1.getAge(30)\n",
    "a1.info()"
   ]
  },
  {
   "cell_type": "code",
   "execution_count": 33,
   "metadata": {},
   "outputs": [
    {
     "name": "stdout",
     "output_type": "stream",
     "text": [
      "TV 볼륨의 크기는 10만큼 증가하여 현재 볼륨은 10 입니다.\n",
      "TV 볼륨의 크기는 3만큼 감소하여 현재 볼륨은 7 입니다.\n"
     ]
    }
   ],
   "source": [
    "class Volume:\n",
    "    vol = 0\n",
    "    def volumeUp(self, vol):\n",
    "        self.vol += vol\n",
    "        print(\"볼륨의 크기는 %d만큼 증가하여 현재 볼륨은 %d 입니다.\"% (vol, self.vol))\n",
    "        \n",
    "    def volumeDown(self, vol):\n",
    "        self.vol -= vol\n",
    "        print(\"볼륨의 크기는 %d만큼 감소하여 현재 볼륨은 %d 입니다.\"% (vol, self.vol))\n",
    "        \n",
    "############################################\n",
    "\n",
    "class TV(Volume):\n",
    "    def volumeUp(self, vol):\n",
    "        self.vol += vol\n",
    "        print(\"TV 볼륨의 크기는 %d만큼 증가하여 현재 볼륨은 %d 입니다.\"% (vol, self.vol))\n",
    "        \n",
    "    def volumeDown(self, vol):\n",
    "        self.vol -= vol\n",
    "        print(\"TV 볼륨의 크기는 %d만큼 감소하여 현재 볼륨은 %d 입니다.\"% (vol, self.vol))\n",
    "\n",
    "############################################\n",
    "\n",
    "class Radio(Volume):\n",
    "    def volumeUp(self, vol):\n",
    "        self.vol += vol\n",
    "        print(\"Radio 볼륨의 크기는 %d만큼 증가하여 현재 볼륨은 %d 입니다.\"% (vol, self.vol))\n",
    "        \n",
    "    def volumeDown(self, vol):\n",
    "        self.vol -= vol\n",
    "        print(\"Radio 볼륨의 크기는 %d만큼 감소하여 현재 볼륨은 %d 입니다.\"% (vol, self.vol))\n",
    "\n",
    "############################################\n",
    "\n",
    "class Speaker(Volume):\n",
    "    def volumeUp(self, vol):\n",
    "        self.vol += vol\n",
    "        print(\"Speaker 볼륨의 크기는 %d만큼 증가하여 현재 볼륨은 %d 입니다.\"% (vol, self.vol))\n",
    "        \n",
    "    def volumeDown(self, vol):\n",
    "        self.vol -= vol\n",
    "        print(\"Speaker 볼륨의 크기는 %d만큼 감소하여 현재 볼륨은 %d 입니다.\"% (vol, self.vol))\n",
    "\n",
    "#############################################\n",
    "\n",
    "tv = TV()\n",
    "radio = Radio()\n",
    "speaker = Speaker()\n",
    "\n",
    "tv.volumeUp(10)\n",
    "tv.volumeDown(3)"
   ]
  },
  {
   "cell_type": "markdown",
   "metadata": {},
   "source": [
    "# 다중상속 부모클래스가 여러개\n",
    "\n",
    "# 많은 기능보다는 단순기능위주로 작은 클래스 하나씩 상속"
   ]
  },
  {
   "cell_type": "code",
   "execution_count": 35,
   "metadata": {},
   "outputs": [
    {
     "name": "stdout",
     "output_type": "stream",
     "text": [
      "통화가능\n",
      "촬영가능\n"
     ]
    }
   ],
   "source": [
    "class Phone:\n",
    "    def call(self):\n",
    "        print(\"통화가능\")\n",
    "class Camera:\n",
    "    def picture(self):\n",
    "        print(\"촬영가능\")\n",
    "class PhoneCamera(Phone, Camera):\n",
    "    pass\n",
    "\n",
    "cp = PhoneCamera()\n",
    "cp.call()\n",
    "cp.picture()"
   ]
  },
  {
   "cell_type": "markdown",
   "metadata": {},
   "source": [
    "# 추상 클래스\n",
    "# 추상 매서드를 한개 이상 가지고 있어야한다.\n",
    "# 추상 매서드란 내용이 없는 메서드를 의미 (pass)\n",
    "# 코드없이 함수만 있는것 pass\n",
    "# 오버라이딩해야함 \n",
    "\n",
    "# 추상매서드 문법을 안쓰면 오버라이딩 했는지 안했는지 확인이 안됨\n",
    "\n",
    "# 기능 확장시키는 의미\n",
    "# @abc.abstractmethod import abc"
   ]
  },
  {
   "cell_type": "code",
   "execution_count": 44,
   "metadata": {},
   "outputs": [
    {
     "name": "stdout",
     "output_type": "stream",
     "text": [
      "TV 볼륨의 크기는 10만큼 증가하여 현재 볼륨은 10 입니다.\n",
      "TV 볼륨의 크기는 7만큼 감소하여 현재 볼륨은 3 입니다.\n"
     ]
    },
    {
     "ename": "TypeError",
     "evalue": "Can't instantiate abstract class Volume with abstract methods volumeDown, volumeUp",
     "output_type": "error",
     "traceback": [
      "\u001b[1;31m---------------------------------------------------------------------------\u001b[0m",
      "\u001b[1;31mTypeError\u001b[0m                                 Traceback (most recent call last)",
      "\u001b[1;32m<ipython-input-44-d605e78f7bda>\u001b[0m in \u001b[0;36m<module>\u001b[1;34m\u001b[0m\n\u001b[0;32m     48\u001b[0m \u001b[0mtv\u001b[0m\u001b[1;33m.\u001b[0m\u001b[0mvolumeDown\u001b[0m\u001b[1;33m(\u001b[0m\u001b[1;36m7\u001b[0m\u001b[1;33m)\u001b[0m\u001b[1;33m\u001b[0m\u001b[1;33m\u001b[0m\u001b[0m\n\u001b[0;32m     49\u001b[0m \u001b[1;33m\u001b[0m\u001b[0m\n\u001b[1;32m---> 50\u001b[1;33m \u001b[0mv1\u001b[0m\u001b[1;33m=\u001b[0m \u001b[0mVolume\u001b[0m\u001b[1;33m(\u001b[0m\u001b[1;33m)\u001b[0m\u001b[1;33m\u001b[0m\u001b[1;33m\u001b[0m\u001b[0m\n\u001b[0m\u001b[0;32m     51\u001b[0m \u001b[0mv1\u001b[0m\u001b[1;33m.\u001b[0m\u001b[0mvol\u001b[0m \u001b[1;33m=\u001b[0m\u001b[1;36m10\u001b[0m\u001b[1;33m\u001b[0m\u001b[1;33m\u001b[0m\u001b[0m\n",
      "\u001b[1;31mTypeError\u001b[0m: Can't instantiate abstract class Volume with abstract methods volumeDown, volumeUp"
     ]
    }
   ],
   "source": [
    "import abc\n",
    "\n",
    "class Volume(metaclass=abc.ABCMeta):\n",
    "    vol = 0\n",
    "    \n",
    "    @abc.abstractmethod\n",
    "    def volumeUp(self, vol):\n",
    "        pass\n",
    "    @abc.abstractmethod\n",
    "    def volumeDown(self, vol):\n",
    "        pass\n",
    "############################################\n",
    "\n",
    "class TV(Volume):\n",
    "    def volumeUp(self, vol):\n",
    "        self.vol += vol\n",
    "        print(\"TV 볼륨의 크기는 %d만큼 증가하여 현재 볼륨은 %d 입니다.\"% (vol, self.vol))\n",
    "    def volumeDown(self, vol):\n",
    "        self.vol -= vol\n",
    "        print(\"TV 볼륨의 크기는 %d만큼 감소하여 현재 볼륨은 %d 입니다.\"% (vol, self.vol))\n",
    "\n",
    "############################################\n",
    "\n",
    "class Radio(Volume):\n",
    "    def volumeUp(self, vol):\n",
    "        self.vol += vol\n",
    "        print(\"Radio 볼륨의 크기는 %d만큼 증가하여 현재 볼륨은 %d 입니다.\"% (vol, self.vol))\n",
    "        \n",
    "    def volumeDown(self, vol):\n",
    "        self.vol -= vol\n",
    "        print(\"Radio 볼륨의 크기는 %d만큼 감소하여 현재 볼륨은 %d 입니다.\"% (vol, self.vol))\n",
    "\n",
    "############################################\n",
    "\n",
    "class Speaker(Volume):\n",
    "    def volumeUp(self, vol):\n",
    "        self.vol += vol\n",
    "        print(\"Speaker 볼륨의 크기는 %d만큼 증가하여 현재 볼륨은 %d 입니다.\"% (vol, self.vol))\n",
    "        \n",
    "    def volumeDown(self, vol):\n",
    "        self.vol -= vol\n",
    "        print(\"Speaker 볼륨의 크기는 %d만큼 감소하여 현재 볼륨은 %d 입니다.\"% (vol, self.vol))\n",
    "\n",
    "#############################################\n",
    "\n",
    "tv = TV()\n",
    "tv.volumeUp(10)\n",
    "tv.volumeDown(7)\n",
    "\n",
    "#v1= Volume()\n",
    "#v1.vol =10"
   ]
  },
  {
   "cell_type": "code",
   "execution_count": 47,
   "metadata": {},
   "outputs": [
    {
     "data": {
      "text/plain": [
       "['__class__',\n",
       " '__delattr__',\n",
       " '__dir__',\n",
       " '__doc__',\n",
       " '__eq__',\n",
       " '__format__',\n",
       " '__ge__',\n",
       " '__getattribute__',\n",
       " '__gt__',\n",
       " '__hash__',\n",
       " '__init__',\n",
       " '__init_subclass__',\n",
       " '__le__',\n",
       " '__lt__',\n",
       " '__ne__',\n",
       " '__new__',\n",
       " '__reduce__',\n",
       " '__reduce_ex__',\n",
       " '__repr__',\n",
       " '__setattr__',\n",
       " '__sizeof__',\n",
       " '__str__',\n",
       " '__subclasshook__']"
      ]
     },
     "execution_count": 47,
     "metadata": {},
     "output_type": "execute_result"
    }
   ],
   "source": [
    "dir(object)"
   ]
  },
  {
   "cell_type": "code",
   "execution_count": 48,
   "metadata": {},
   "outputs": [
    {
     "name": "stdout",
     "output_type": "stream",
     "text": [
      "<class 'int'>\n"
     ]
    },
    {
     "data": {
      "text/plain": [
       "['__abs__',\n",
       " '__add__',\n",
       " '__and__',\n",
       " '__bool__',\n",
       " '__ceil__',\n",
       " '__class__',\n",
       " '__delattr__',\n",
       " '__dir__',\n",
       " '__divmod__',\n",
       " '__doc__',\n",
       " '__eq__',\n",
       " '__float__',\n",
       " '__floor__',\n",
       " '__floordiv__',\n",
       " '__format__',\n",
       " '__ge__',\n",
       " '__getattribute__',\n",
       " '__getnewargs__',\n",
       " '__gt__',\n",
       " '__hash__',\n",
       " '__index__',\n",
       " '__init__',\n",
       " '__init_subclass__',\n",
       " '__int__',\n",
       " '__invert__',\n",
       " '__le__',\n",
       " '__lshift__',\n",
       " '__lt__',\n",
       " '__mod__',\n",
       " '__mul__',\n",
       " '__ne__',\n",
       " '__neg__',\n",
       " '__new__',\n",
       " '__or__',\n",
       " '__pos__',\n",
       " '__pow__',\n",
       " '__radd__',\n",
       " '__rand__',\n",
       " '__rdivmod__',\n",
       " '__reduce__',\n",
       " '__reduce_ex__',\n",
       " '__repr__',\n",
       " '__rfloordiv__',\n",
       " '__rlshift__',\n",
       " '__rmod__',\n",
       " '__rmul__',\n",
       " '__ror__',\n",
       " '__round__',\n",
       " '__rpow__',\n",
       " '__rrshift__',\n",
       " '__rshift__',\n",
       " '__rsub__',\n",
       " '__rtruediv__',\n",
       " '__rxor__',\n",
       " '__setattr__',\n",
       " '__sizeof__',\n",
       " '__str__',\n",
       " '__sub__',\n",
       " '__subclasshook__',\n",
       " '__truediv__',\n",
       " '__trunc__',\n",
       " '__xor__',\n",
       " 'bit_length',\n",
       " 'conjugate',\n",
       " 'denominator',\n",
       " 'from_bytes',\n",
       " 'imag',\n",
       " 'numerator',\n",
       " 'real',\n",
       " 'to_bytes']"
      ]
     },
     "execution_count": 48,
     "metadata": {},
     "output_type": "execute_result"
    }
   ],
   "source": [
    "a = int()\n",
    "print(type(a))\n",
    "dir(a)"
   ]
  },
  {
   "cell_type": "code",
   "execution_count": 50,
   "metadata": {},
   "outputs": [
    {
     "data": {
      "text/plain": [
       "['__abstractmethods__',\n",
       " '__class__',\n",
       " '__delattr__',\n",
       " '__dict__',\n",
       " '__dir__',\n",
       " '__doc__',\n",
       " '__eq__',\n",
       " '__format__',\n",
       " '__ge__',\n",
       " '__getattribute__',\n",
       " '__gt__',\n",
       " '__hash__',\n",
       " '__init__',\n",
       " '__init_subclass__',\n",
       " '__le__',\n",
       " '__lt__',\n",
       " '__module__',\n",
       " '__ne__',\n",
       " '__new__',\n",
       " '__reduce__',\n",
       " '__reduce_ex__',\n",
       " '__repr__',\n",
       " '__setattr__',\n",
       " '__sizeof__',\n",
       " '__str__',\n",
       " '__subclasshook__',\n",
       " '__weakref__',\n",
       " '_abc_impl',\n",
       " 'vol',\n",
       " 'volumeDown',\n",
       " 'volumeUp']"
      ]
     },
     "execution_count": 50,
     "metadata": {},
     "output_type": "execute_result"
    }
   ],
   "source": [
    "dir(tv)"
   ]
  },
  {
   "cell_type": "markdown",
   "metadata": {},
   "source": [
    "# 어떠한 클래스 중에서 가장 원조는 object\n",
    "\n",
    "# 객체가 원형 클래스 데이터 바꿀때 # __class__ : static\n",
    "\n",
    "# 하나의값을 공동으로 사용할때 "
   ]
  },
  {
   "cell_type": "code",
   "execution_count": 55,
   "metadata": {},
   "outputs": [
    {
     "name": "stdout",
     "output_type": "stream",
     "text": [
      "파이썬 클래스\n",
      "파이썬 클래스\n",
      "파이썬 클래스\n",
      "-------------\n",
      "데이터 변경\n",
      "데이터 변경\n",
      "데이터 변경\n"
     ]
    }
   ],
   "source": [
    "# __class__ : static\n",
    "\n",
    "class Test:\n",
    "    data = \"파이썬 클래스\"\n",
    "    \n",
    "ob1 = Test()\n",
    "ob2 = Test()\n",
    "\n",
    "print(ob1.data)\n",
    "print(ob2.data)\n",
    "print(Test.data)\n",
    "print(\"-------------\")\n",
    "#ob1.data = \"데이터 변경\"\n",
    "#Test.data = \"데이터 변경2\"\n",
    "#print(ob1.data)\n",
    "#print(ob2.data)\n",
    "#print(Test.data)\n",
    "ob1.__class__.data = \"데이터 변경\"\n",
    "print(ob1.data)\n",
    "print(ob2.data)\n",
    "print(Test.data)"
   ]
  },
  {
   "cell_type": "markdown",
   "metadata": {},
   "source": [
    "# 객체별로 변수 추가 금지 하기위한 목적사용\n",
    "# __slot__: [\"클래스변수1\",\"클래스변수2\",,]\n",
    "\n"
   ]
  },
  {
   "cell_type": "code",
   "execution_count": 56,
   "metadata": {},
   "outputs": [],
   "source": [
    "class Animal:\n",
    "    name = \"동물\"\n",
    "    age = 0\n",
    "    __slot__=[\"name\",\"age\"]\n",
    "    \n",
    "    def display(self):\n",
    "        print(self.name, self.age)"
   ]
  },
  {
   "cell_type": "code",
   "execution_count": 57,
   "metadata": {},
   "outputs": [
    {
     "name": "stdout",
     "output_type": "stream",
     "text": [
      "멍멍이 10\n",
      "야옹이 11\n"
     ]
    }
   ],
   "source": [
    "dog = Animal()\n",
    "cat = Animal()\n",
    "\n",
    "dog.name = \"멍멍이\"\n",
    "dog.age = 10\n",
    "cat.name = \"야옹이\"\n",
    "cat.age = 11\n",
    "dog.display()\n",
    "cat.display()"
   ]
  },
  {
   "cell_type": "markdown",
   "metadata": {},
   "source": [
    "# 객체 설계 원칙(SOLID)\n",
    "# UML"
   ]
  },
  {
   "cell_type": "code",
   "execution_count": null,
   "metadata": {},
   "outputs": [
    {
     "name": "stdout",
     "output_type": "stream",
     "text": [
      "1.TV\n",
      "2.RADIO\n",
      "3.SPEAKER\n",
      "4.종료\n",
      "\n"
     ]
    }
   ],
   "source": [
    "class Volume:\n",
    "    vol = 0\n",
    "    flag =bool()\n",
    "    def setvolume(self, vol):\n",
    "        if self.flag:\n",
    "            if self.vol in range(0,101):\n",
    "                self.vol = vol\n",
    "                #print(\"현재 볼륨은 %d 입니다.\"% (self.vol))\n",
    "            if self.vol >= 100:\n",
    "                self.vol=100\n",
    "                print(\"더이상 볼륨을 높일수 없습니다.\")\n",
    "                #print(\"현재 볼륨은 %d 입니다.\"% (self.vol))\n",
    "            if self.vol <=0:\n",
    "                self.vol = 0\n",
    "                print(\"더이상 볼륨을 내릴수 없습니다.\")\n",
    "               # print(\"현재 볼륨은 %d 입니다.\"% (self.vol))\n",
    "        else:\n",
    "            print(\"전원이 꺼져있습니다.\")\n",
    "            return 0\n",
    "    \n",
    "    def getvolume(self,vol):\n",
    "        return self.vol\n",
    "    def powerOn(self):\n",
    "        self.flag = True\n",
    "    def powerOff(self):\n",
    "        self.flag = false\n",
    "############################################\n",
    "\n",
    "class TV(Volume):\n",
    "    def setvolume(self, vol):\n",
    "        if self.flag:\n",
    "            if self.vol in range(0,101):\n",
    "                self.vol = vol\n",
    "                print(\"현재 TV볼륨은 %d 입니다.\"% (self.vol))\n",
    "            if self.vol >= 100:\n",
    "                self.vol=100\n",
    "                print(\"더이상 TV볼륨을 높일수 없습니다.\")\n",
    "                print(\"현재 TV볼륨은 %d 입니다.\"% (self.vol))\n",
    "            if self.vol <=0:\n",
    "                self.vol = 0\n",
    "                print(\"더이상 TV볼륨을 내릴수 없습니다.\")\n",
    "                print(\"현재 TV볼륨은 %d 입니다.\"% (self.vol))\n",
    "        else:\n",
    "            print(\"전원이 꺼져있습니다.\")\n",
    "            return 0\n",
    "    def powerOn(self):\n",
    "        print(\"TV가 켜졌습니다.\")\n",
    "    def powerOff(self):\n",
    "        print(\"TV가 꺼졌습니다.\")\n",
    "        \n",
    "############################################\n",
    "\n",
    "class Radio(Volume):\n",
    "    def setvolume(self, vol):\n",
    "        if self.flag:\n",
    "            if self.vol in range(0,101):\n",
    "                self.vol = vol\n",
    "                print(\"현재 Radio볼륨은 %d 입니다.\"% (self.vol))\n",
    "            if self.vol >= 100:\n",
    "                self.vol=100\n",
    "                print(\"더이상 Radio볼륨을 높일수 없습니다.\")\n",
    "                print(\"현재 Radio볼륨은 %d 입니다.\"% (self.vol))\n",
    "            if self.vol <=0:\n",
    "                self.vol = 0\n",
    "                print(\"더이상 Radio볼륨을 내릴수 없습니다.\")\n",
    "                print(\"현재 Radio볼륨은 %d 입니다.\"% (self.vol))\n",
    "        else:\n",
    "            print(\"전원이 꺼져있습니다.\")\n",
    "            return 0\n",
    "    def powerOn(self):\n",
    "        print(\"Radio가 켜졌습니다.\")\n",
    "    def powerOff(self):\n",
    "        print(\"Radio가 꺼졌습니다.\")\n",
    "############################################\n",
    "\n",
    "class Speaker(Volume):\n",
    "    def setvolume(self, vol):\n",
    "        if self.flag:\n",
    "            if self.vol in range(0,101):\n",
    "                self.vol = vol\n",
    "                print(\"현재 Speaker볼륨은 %d 입니다.\"% (self.vol))\n",
    "            if self.vol >= 100:\n",
    "                self.vol=100\n",
    "                print(\"더이상 Speaker볼륨을 높일수 없습니다.\")\n",
    "                print(\"현재 Speaker볼륨은 %d 입니다.\"% (self.vol))\n",
    "            if self.vol <=0:\n",
    "                self.vol = 0\n",
    "                print(\"더이상 Speaker볼륨을 내릴수 없습니다.\")\n",
    "                print(\"현재 Speaker볼륨은 %d 입니다.\"% (self.vol))\n",
    "        else:\n",
    "            print(\"전원이 꺼져있습니다.\")\n",
    "            return 0\n",
    "    def powerOn(self):\n",
    "        print(\"Speaker가 켜졌습니다.\")\n",
    "    def powerOff(self):\n",
    "        print(\"Speaker가 꺼졌습니다.\")\n",
    "#############################################\n",
    "\n",
    "\n",
    "    \n",
    "message1 = \"\"\"1.TV\n",
    "2.RADIO\n",
    "3.SPEAKER\n",
    "4.종료\n",
    "\"\"\"\n",
    "message2 = \"\"\"\n",
    "1.전원\n",
    "2.볼륨조정\n",
    "3.나가기\n",
    "\"\"\"\n",
    "\n",
    "while True:\n",
    "    print(message1)\n",
    "    num = int(input(\"메뉴 : \"))\n",
    "    if num == 1:\n",
    "        tv1 = TV()\n",
    "        print(message2,\"\\n\")\n",
    "        num2 = int(input(\"메뉴 : \"))\n",
    "        if num2 == 1:\n",
    "            if not tv1.flag:\n",
    "                tv1.powerOn()\n",
    "                continue\n",
    "            else:\n",
    "                tv1.powerOff()\n",
    "                continue\n",
    "        elif num2 == 2:\n",
    "            num3 = int(input(\"레벨입력 : \"))\n",
    "            tv1.setvolume(num3)\n",
    "            continue\n",
    "        else:\n",
    "            continue\n",
    "    elif num == 2:\n",
    "        radio1 = Radio()\n",
    "        print(message2,\"\\n\")\n",
    "        num2 = int(input(\"메뉴 : \"))\n",
    "        if num2 == 1:\n",
    "            if not radio1.flag:\n",
    "                radio1.powerOn()\n",
    "                continue\n",
    "            else:\n",
    "                radio1.powerOff()\n",
    "                continue\n",
    "        elif num2 == 2:\n",
    "            num3 = int(input(\"레벨입력 : \"))\n",
    "            radio1.setvolume(num3)\n",
    "            continue\n",
    "        else:\n",
    "            continue\n",
    "    elif num == 3:\n",
    "        speaker1 = Speaker()\n",
    "        print(message2,\"\\n\")\n",
    "        num2 = int(input(\"메뉴 : \"))\n",
    "        if num2 == 1:\n",
    "            if not speaker1.flag:\n",
    "                speaker1.powerOn()\n",
    "                continue\n",
    "            else:\n",
    "                speaker1.powerOff()\n",
    "                continue\n",
    "        elif num2 == 2:\n",
    "            num3 = int(input(\"레벨입력 : \"))\n",
    "            speaker1.setvolume(num3)\n",
    "            continue\n",
    "        else:\n",
    "            continue\n",
    "    else:\n",
    "        break\n",
    "        \n",
    "            \n",
    "            \n",
    "        "
   ]
  },
  {
   "cell_type": "code",
   "execution_count": null,
   "metadata": {},
   "outputs": [],
   "source": []
  }
 ],
 "metadata": {
  "kernelspec": {
   "display_name": "Python 3",
   "language": "python",
   "name": "python3"
  },
  "language_info": {
   "codemirror_mode": {
    "name": "ipython",
    "version": 3
   },
   "file_extension": ".py",
   "mimetype": "text/x-python",
   "name": "python",
   "nbconvert_exporter": "python",
   "pygments_lexer": "ipython3",
   "version": "3.7.6"
  }
 },
 "nbformat": 4,
 "nbformat_minor": 4
}
