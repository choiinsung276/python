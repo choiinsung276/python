{
 "cells": [
  {
   "cell_type": "markdown",
   "metadata": {},
   "source": [
    "while True:\n",
    "    inputnum1=input(\"숫자를 입력해주세요\\n1.갤런을 리터로 변환\\n2.리터를 갤런으로 변환\")\n",
    "    if inputnum1 == \"1\":\n",
    "        gal = input(\"몇갤런입니까?\")\n",
    "        lita = 3.7584*float(gal)\n",
    "        print(\"%10.4f리터 입니다.\"% lita)\n",
    "    elif inputnum1 == \"2\":\n",
    "        lita = input(\"몇리터 입니까?\")\n",
    "        gal = 0.2641*float(lita)\n",
    "        print(\"%10.4f갤런입니다.\"% gal)\n",
    "    else :\n",
    "        break"
   ]
  },
  {
   "cell_type": "code",
   "execution_count": 3,
   "metadata": {},
   "outputs": [
    {
     "name": "stdout",
     "output_type": "stream",
     "text": [
      "당신의 체중은?100\n",
      "달에서의 당신은 체중은 17.0000kg입니다.\n"
     ]
    }
   ],
   "source": [
    "inputnum1 = input(\"당신의 체중은?\")\n",
    "noon = 0.17*float(inputnum1)\n",
    "print(\"달에서의 당신은 체중은 %3.4fkg입니다.\"%noon)"
   ]
  },
  {
   "cell_type": "code",
   "execution_count": 7,
   "metadata": {},
   "outputs": [
    {
     "name": "stdout",
     "output_type": "stream",
     "text": [
      "숫자를 입력해주세요\n",
      "1.갤런을 리터로 변환\n",
      "2.리터를 갤런으로 변환\n",
      "그외는 프로그램종료1\n",
      "몇갤런입니까?10\n",
      "   37.5840리터 입니다.\n",
      "숫자를 입력해주세요\n",
      "1.갤런을 리터로 변환\n",
      "2.리터를 갤런으로 변환\n",
      "그외는 프로그램종료2\n",
      "몇리터 입니까?10\n",
      "    2.6410갤런입니다.\n",
      "숫자를 입력해주세요\n",
      "1.갤런을 리터로 변환\n",
      "2.리터를 갤런으로 변환\n",
      "그외는 프로그램종료4\n"
     ]
    }
   ],
   "source": [
    "while True:\n",
    "    inputnum1=input(\"숫자를 입력해주세요\\n1.갤런을 리터로 변환\\n2.리터를 갤런으로 변환\\n그외는 프로그램종료\")\n",
    "    if inputnum1 == \"1\":\n",
    "        gal = input(\"몇갤런입니까?\")\n",
    "        lita = 3.7584*float(gal)\n",
    "        print(\"%10.4f리터 입니다.\"% lita)\n",
    "    elif inputnum1 == \"2\":\n",
    "        lita = input(\"몇리터 입니까?\")\n",
    "        gal = 0.2641*float(lita)\n",
    "        print(\"%10.4f갤런입니다.\"% gal)\n",
    "    else :\n",
    "        break"
   ]
  },
  {
   "cell_type": "code",
   "execution_count": 4,
   "metadata": {
    "scrolled": true
   },
   "outputs": [
    {
     "name": "stdout",
     "output_type": "stream",
     "text": [
      "번개가 떨어진 거리는 7920feet입니다.\n"
     ]
    }
   ],
   "source": [
    "feet = 1100*7.2\n",
    "print(\"번개가 떨어진 거리는 %dfeet입니다.\"%feet )"
   ]
  },
  {
   "cell_type": "code",
   "execution_count": 6,
   "metadata": {},
   "outputs": [
    {
     "name": "stdout",
     "output_type": "stream",
     "text": [
      "교환할 돈은 얼마 입니까?2763\n",
      "오백원짜리===>5개\n",
      "\n",
      "백원짜리===>2개\n",
      "\n",
      "오십원짜리===>1개\n",
      "\n",
      "십원짜리===>1개\n",
      "\n",
      "나머지 바꾸지 못한 잔돈===>3개\n",
      "\n"
     ]
    }
   ],
   "source": [
    "money = int(input(\"교환할 돈은 얼마 입니까?\"))\n",
    "num1 = money//500\n",
    "num2 = (money-num1*500)//100\n",
    "num3 = (money-num1*500-num2*100)//50\n",
    "num4 = (money-num1*500-num2*100-num3*50)//10\n",
    "num5 = money-num1*500-num2*100-num3*50-num4*10\n",
    "print(\"오백원짜리===>%d개\\n\"%num1)\n",
    "print(\"백원짜리===>%d개\\n\"%num2)\n",
    "print(\"오십원짜리===>%d개\\n\"%num3)\n",
    "print(\"십원짜리===>%d개\\n\"%num4)\n",
    "print(\"나머지 바꾸지 못한 잔돈===>%d개\\n\"%num5)"
   ]
  },
  {
   "cell_type": "code",
   "execution_count": 20,
   "metadata": {},
   "outputs": [
    {
     "name": "stdout",
     "output_type": "stream",
     "text": [
      "입력하시오a\n",
      "정답\n"
     ]
    }
   ],
   "source": [
    "# 입력받은 값이 a,b,c,d이면 \"정답이라고 출력하고 그렇지 않으면\"오답\"이라고출력\n",
    "num = str(input(\"입력하시오\"))\n",
    "if num == \"a\" or num ==\"b\" or num ==\"c\" or num ==\"d\" : \n",
    "    print(\"정답\")\n",
    "else:\n",
    "    print(\"오답\")"
   ]
  },
  {
   "cell_type": "code",
   "execution_count": 21,
   "metadata": {
    "scrolled": true
   },
   "outputs": [
    {
     "name": "stdout",
     "output_type": "stream",
     "text": [
      "교환할 돈은 얼마입니까?2760\n",
      "오백원짜리 ===> 5 개\n",
      "백원짜리 ===> 2 개\n",
      "오십원짜리 ===> 1 개\n",
      "십원짜리 ===> 1 개\n",
      "나머지 바꾸지 못한 잔돈 ===> 0 원\n"
     ]
    }
   ],
   "source": [
    "money = int(input('교환할 돈은 얼마입니까?'))\n",
    "print('오백원짜리 ===>', money // 500, '개')\n",
    "money %= 500\n",
    "print('백원짜리 ===>', money // 100, '개')\n",
    "money %= 100\n",
    "print('오십원짜리 ===>', money // 50, '개')\n",
    "money %= 50\n",
    "print('십원짜리 ===>', money // 10, '개')\n",
    "money %= 10\n",
    "print('나머지 바꾸지 못한 잔돈 ===>', money, '원')"
   ]
  },
  {
   "cell_type": "code",
   "execution_count": 7,
   "metadata": {},
   "outputs": [
    {
     "name": "stdout",
     "output_type": "stream",
     "text": [
      "연도를 입력 : 2019\n",
      "윤년이 아닙니다\n"
     ]
    }
   ],
   "source": [
    "\n",
    "year = int(input(\"연도를 입력 : \"))\n",
    "if year % 400 ==0 :\n",
    "    print(\"결과 :윤년\")\n",
    "elif year % 100 == 0 :\n",
    "    print(\"결과 :평년\")\n",
    "elif year % 4 == 0 :\n",
    "    print(\"결과 :윤년\")\n",
    "else :\n",
    "    print(\"윤년이 아닙니다\")"
   ]
  },
  {
   "cell_type": "code",
   "execution_count": null,
   "metadata": {},
   "outputs": [],
   "source": []
  },
  {
   "cell_type": "code",
   "execution_count": null,
   "metadata": {
    "scrolled": false
   },
   "outputs": [
    {
     "name": "stdout",
     "output_type": "stream",
     "text": [
      "***\n",
      "    전자 계산기 프로그램(사칙연산)\n",
      "    -------------------------\n",
      "    \n",
      "연산자 : +\n",
      "숫자1 : 1\n",
      "숫자2 : 2\n",
      "결과 : 3\n",
      "***\n",
      "    전자 계산기 프로그램(사칙연산)\n",
      "    -------------------------\n",
      "    \n"
     ]
    }
   ],
   "source": [
    "\n",
    "while True:\n",
    "    message = \"\"\"***\n",
    "    전자 계산기 프로그램(사칙연산)\n",
    "    -------------------------\n",
    "    \"\"\"\n",
    "    print(message)\n",
    "    operator = str(input(\"연산자 : \"))\n",
    "    \n",
    "    if operator =='+':\n",
    "        num1 = int(input(\"숫자1 : \"))\n",
    "        num2 = int(input(\"숫자2 : \"))\n",
    "        print(\"결과 : %d\" % (num1+num2))\n",
    "    elif operator =='-':\n",
    "        num1 = int(input(\"숫자1 : \"))\n",
    "        num2 = int(input(\"숫자2 : \"))\n",
    "        print(\"결과 : %d\" % (num1-num2))\n",
    "    elif operator =='*':\n",
    "        num1 = int(input(\"숫자1 : \"))\n",
    "        num2 = int(input(\"숫자2 : \"))\n",
    "        print(\"결과 : %d\" % (num1*num2))\n",
    "    elif operator =='/':\n",
    "        num1 = int(input(\"숫자1 : \"))\n",
    "        num2 = int(input(\"숫자2 : \"))\n",
    "        print(\"결과 : %d\" % (num1/num2))\n",
    "    elif operator =='x':\n",
    "        print(\"종료\")\n",
    "        break\n",
    "    elif operator =='q':\n",
    "        print(\"종료\")\n",
    "        break\n",
    "    \n"
   ]
  },
  {
   "cell_type": "markdown",
   "metadata": {},
   "source": [
    "# 조건문의 중첩(nested)\n",
    "if조건문 :\n",
    "    문장\n",
    "    if 조건문 :\n",
    "        문장"
   ]
  },
  {
   "cell_type": "code",
   "execution_count": 7,
   "metadata": {},
   "outputs": [
    {
     "name": "stdout",
     "output_type": "stream",
     "text": [
      "b가 제일크다\n"
     ]
    }
   ],
   "source": [
    "#중첩 조건문\n",
    "a,b,c  =8,10,3\n",
    "\n",
    "if a>b:\n",
    "    if a>c :\n",
    "        print(\"a가 제일크다\")\n",
    "    else :\n",
    "        print(\"c가 제일크다\")\n",
    "else :\n",
    "    if b>c:\n",
    "        print(\"b가 제일크다\")\n",
    "    else:\n",
    "        print(\"c가 제일크다\")"
   ]
  },
  {
   "cell_type": "code",
   "execution_count": 11,
   "metadata": {},
   "outputs": [
    {
     "name": "stdout",
     "output_type": "stream",
     "text": [
      "아이디 : f\n",
      "패스워드 : 123\n",
      "아이디와 패스워드 모두 일치하지않습니다\n"
     ]
    }
   ],
   "source": [
    "# 아이디와 패스워드를 입력받아 로그인하는 프로그램(id :tom, password:1234)\n",
    "\n",
    "id_1 = 'tom'\n",
    "pw_1 = 1234\n",
    "\n",
    "id = input(\"아이디 : \")\n",
    "pw = int(input(\"패스워드 : \"))\n",
    "\n",
    "if id != id_1:\n",
    "    if pw != pw_1 :\n",
    "        print(\"아이디와 패스워드 모두 일치하지않습니다\")\n",
    "    else :\n",
    "        print(\"아이디가 일치하지 않습니다\")\n",
    "else :\n",
    "    if pw != pw_1 :\n",
    "        print(\"패스워드가 일치하지않습니다\")\n",
    "    else:\n",
    "        print(\"로그인성공!\")"
   ]
  },
  {
   "cell_type": "code",
   "execution_count": 6,
   "metadata": {},
   "outputs": [
    {
     "name": "stdout",
     "output_type": "stream",
     "text": [
      "(가위,바위,보)중에서 하나를 선택: 가위\n",
      "사용자가 졌습니다.\n",
      "컴퓨터의 선택: 바위\n",
      "(가위,바위,보)중에서 하나를 선택: 바위\n",
      "비겼습니다.\n",
      "컴퓨터의 선택: 바위\n",
      "(가위,바위,보)중에서 하나를 선택: 보\n",
      "사용자가 이겼습니다.\n",
      "컴퓨터의 선택: 바위\n",
      "(가위,바위,보)중에서 하나를 선택: 종료\n",
      "1승 1무 1패\n"
     ]
    }
   ],
   "source": [
    "#가위 바위 보 프로그램\n",
    "#***\n",
    "#(가위, 바위,보) 중에서 하나를 선택 : 가위\n",
    "#결과 : 사용자가 이겼습니다.(졌습니다)\n",
    "#***\n",
    "\n",
    "import random\n",
    "win = 0\n",
    "lose = 0\n",
    "draw = 0\n",
    "\n",
    "def Win():\n",
    "    global win\n",
    "    win += 1\n",
    "    print(\"사용자가 이겼습니다.\")\n",
    "    \n",
    "def Lose():\n",
    "    global lose\n",
    "    lose += 1\n",
    "    print(\"사용자가 졌습니다.\")\n",
    "    \n",
    "def Draw():\n",
    "    global draw\n",
    "    draw +=1\n",
    "    print(\"비겼습니다.\")\n",
    "\n",
    "while True:\n",
    "    computer = random.choice(['가위','바위','보'])\n",
    "    User = input(\"(가위,바위,보)중에서 하나를 선택: \")\n",
    "    if User == \"종료\":\n",
    "        print(\"%d승 %d무 %d패\" % (win,draw,lose))\n",
    "        break\n",
    "\n",
    "    if computer == \"가위\":\n",
    "        if User == \"가위\":\n",
    "            Draw()\n",
    "            print(\"컴퓨터의 선택: %s\" % computer)\n",
    "        elif User == \"바위\":\n",
    "            Win()\n",
    "            print(\"컴퓨터의 선택: %s\" % computer)\n",
    "        else:\n",
    "            Lose()\n",
    "            print(\"컴퓨터의 선택: %s\" % computer)\n",
    "    elif computer == \"바위\":\n",
    "        if User == \"가위\":\n",
    "            Lose()\n",
    "            print(\"컴퓨터의 선택: %s\" % computer)\n",
    "        elif User == \"바위\":\n",
    "            Draw()\n",
    "            print(\"컴퓨터의 선택: %s\" % computer)\n",
    "        else:\n",
    "            Win()\n",
    "            print(\"컴퓨터의 선택: %s\" % computer)\n",
    "    else :\n",
    "        if User == \"가위\":\n",
    "            Win()\n",
    "            print(\"컴퓨터의 선택: %s\" % computer)\n",
    "        elif User == \"바위\":\n",
    "            Lose()\n",
    "            print(\"컴퓨터의 선택: %s\" % computer)\n",
    "        else:\n",
    "            Draw()\n",
    "            print(\"컴퓨터의 선택: %s\" % computer)"
   ]
  },
  {
   "cell_type": "markdown",
   "metadata": {},
   "source": [
    "# while\n",
    "1. 무한반복\n",
    "2. 반복횟수\n",
    "\n",
    " 1)초기화 \n",
    " 2)조건식\n",
    " 3)카운터"
   ]
  },
  {
   "cell_type": "code",
   "execution_count": 23,
   "metadata": {
    "scrolled": true
   },
   "outputs": [
    {
     "name": "stdout",
     "output_type": "stream",
     "text": [
      "******\n",
      "* * * * * * * * * * "
     ]
    }
   ],
   "source": [
    "print(\"******\")\n",
    "cnt = 0\n",
    "while  cnt < 10:\n",
    "    print(\"*\", end= \" \")\n",
    "    cnt += 1"
   ]
  },
  {
   "cell_type": "markdown",
   "metadata": {},
   "source": [
    "# FOR\n",
    "    for 변수 in 집합자료형:\n",
    "        문장"
   ]
  },
  {
   "cell_type": "code",
   "execution_count": 24,
   "metadata": {},
   "outputs": [
    {
     "name": "stdout",
     "output_type": "stream",
     "text": [
      "10\n",
      "20\n",
      "홍길동\n",
      "3.14\n",
      "True\n"
     ]
    }
   ],
   "source": [
    "data1 = [10,20,\"홍길동\",3.14,True]\n",
    "\n",
    "for i in data1:\n",
    "    print(i)"
   ]
  },
  {
   "cell_type": "markdown",
   "metadata": {},
   "source": [
    "### 반복문의 강제 종료\n",
    "    1) break : 완전종료\n",
    "    2) continue : 일시 종료 (반복문 처음으로 감)"
   ]
  },
  {
   "cell_type": "code",
   "execution_count": 25,
   "metadata": {},
   "outputs": [
    {
     "name": "stdout",
     "output_type": "stream",
     "text": [
      "0\n",
      "1\n",
      "2\n",
      "3\n",
      "4\n",
      "6\n",
      "7\n",
      "8\n",
      "9\n"
     ]
    }
   ],
   "source": [
    "for v in range(10):\n",
    "    if v == 5:\n",
    "        continue #5만 빼고 반복다시 \n",
    "    print(v)"
   ]
  },
  {
   "cell_type": "code",
   "execution_count": 2,
   "metadata": {},
   "outputs": [
    {
     "name": "stdout",
     "output_type": "stream",
     "text": [
      " 숫자를 입력하시오3\n",
      "현재 짝수합은 0입니다.\n",
      "현재 홀수합은 3입니다.\n",
      " 숫자를 입력하시오5\n",
      "현재 짝수합은 0입니다.\n",
      "현재 홀수합은 8입니다.\n",
      " 숫자를 입력하시오2\n",
      "현재 짝수합은 2입니다.\n",
      "현재 홀수합은 8입니다.\n",
      " 숫자를 입력하시오4\n",
      "현재 짝수합은 6입니다.\n",
      "현재 홀수합은 8입니다.\n",
      " 숫자를 입력하시오6\n",
      "현재 짝수합은 12입니다.\n",
      "현재 홀수합은 8입니다.\n",
      " 숫자를 입력하시오7\n",
      "현재 짝수합은 12입니다.\n",
      "현재 홀수합은 15입니다.\n",
      " 숫자를 입력하시오0\n"
     ]
    }
   ],
   "source": [
    "sum_1 = 0 #짝수합\n",
    "sum_2 = 0 #홀수합\n",
    "while True:\n",
    "   \n",
    "    message =\" 숫자를 입력하시오\"\n",
    "    User_num = input(message)\n",
    "    \n",
    "    if User_num == '0':\n",
    "        break\n",
    "    \n",
    "    if int(User_num) % 2 == 0:\n",
    "        sum_1 += int(User_num)\n",
    "        print(\"현재 짝수합은 %d입니다.\" % sum_1)\n",
    "        print(\"현재 홀수합은 %d입니다.\" % sum_2)\n",
    "    else:\n",
    "        sum_2 += int(User_num)\n",
    "        print(\"현재 짝수합은 %d입니다.\" % sum_1)\n",
    "        print(\"현재 홀수합은 %d입니다.\" % sum_2)\n"
   ]
  },
  {
   "cell_type": "code",
   "execution_count": 3,
   "metadata": {},
   "outputs": [
    {
     "name": "stdout",
     "output_type": "stream",
     "text": [
      "\n",
      "============\n",
      "1.친구 리스트 출력\n",
      "2.친구 추가\n",
      "3.친구 삭제\n",
      "4.이름 변경\n",
      "9.종료\n",
      "============\n",
      "\n",
      "메뉴를 선택 : 2\n",
      "친구 추가할 이름 입력하시오 : 아아\n",
      "\n",
      "============\n",
      "1.친구 리스트 출력\n",
      "2.친구 추가\n",
      "3.친구 삭제\n",
      "4.이름 변경\n",
      "9.종료\n",
      "============\n",
      "\n",
      "메뉴를 선택 : 2\n",
      "친구 추가할 이름 입력하시오 : 오오\n",
      "\n",
      "============\n",
      "1.친구 리스트 출력\n",
      "2.친구 추가\n",
      "3.친구 삭제\n",
      "4.이름 변경\n",
      "9.종료\n",
      "============\n",
      "\n",
      "메뉴를 선택 : 2\n",
      "친구 추가할 이름 입력하시오 : 예예\n",
      "\n",
      "============\n",
      "1.친구 리스트 출력\n",
      "2.친구 추가\n",
      "3.친구 삭제\n",
      "4.이름 변경\n",
      "9.종료\n",
      "============\n",
      "\n",
      "메뉴를 선택 : 1\n",
      "['아아', '오오', '예예']\n",
      "\n",
      "============\n",
      "1.친구 리스트 출력\n",
      "2.친구 추가\n",
      "3.친구 삭제\n",
      "4.이름 변경\n",
      "9.종료\n",
      "============\n",
      "\n",
      "메뉴를 선택 : 3\n",
      "친구 삭제할 이름 입력하시오 : 아아\n",
      "\n",
      "============\n",
      "1.친구 리스트 출력\n",
      "2.친구 추가\n",
      "3.친구 삭제\n",
      "4.이름 변경\n",
      "9.종료\n",
      "============\n",
      "\n",
      "메뉴를 선택 : 1\n",
      "['오오', '예예']\n",
      "\n",
      "============\n",
      "1.친구 리스트 출력\n",
      "2.친구 추가\n",
      "3.친구 삭제\n",
      "4.이름 변경\n",
      "9.종료\n",
      "============\n",
      "\n",
      "메뉴를 선택 : 4\n",
      "변경할 친구 이름 입력하시오 : 예예\n",
      "어떻게 변경하시겠습니까 : 요요\n",
      "\n",
      "============\n",
      "1.친구 리스트 출력\n",
      "2.친구 추가\n",
      "3.친구 삭제\n",
      "4.이름 변경\n",
      "9.종료\n",
      "============\n",
      "\n",
      "메뉴를 선택 : 1\n",
      "['오오', '요요']\n",
      "\n",
      "============\n",
      "1.친구 리스트 출력\n",
      "2.친구 추가\n",
      "3.친구 삭제\n",
      "4.이름 변경\n",
      "9.종료\n",
      "============\n",
      "\n",
      "메뉴를 선택 : 9\n",
      "종료\n"
     ]
    }
   ],
   "source": [
    "message=\"\"\"\n",
    "============\n",
    "1.친구 리스트 출력\n",
    "2.친구 추가\n",
    "3.친구 삭제\n",
    "4.이름 변경\n",
    "9.종료\n",
    "============\n",
    "\"\"\"\n",
    "friend_list = []\n",
    "def friend_add(name):\n",
    "    global friend_list \n",
    "    friend_list.append(name)\n",
    "    \n",
    "def friend_delete(name):\n",
    "    global friend_list \n",
    "    friend_list.remove(name)\n",
    "    \n",
    "def friend_name_change(name1,name2):\n",
    "    global friend_list\n",
    "    index_num = friend_list.index(name1)\n",
    "    friend_list.pop(index_num)\n",
    "    friend_list.insert(index_num,name2)\n",
    "    \n",
    "while True:\n",
    "    print(message)\n",
    "    num = input(\"메뉴를 선택 : \")\n",
    "    if int(num) == 1:\n",
    "        print(friend_list)\n",
    "    elif int(num) == 2:\n",
    "        name = input(\"친구 추가할 이름 입력하시오 : \")\n",
    "        friend_add(name)\n",
    "    elif int(num) == 3:\n",
    "        name = input(\"친구 삭제할 이름 입력하시오 : \")\n",
    "        friend_delete(name)\n",
    "    elif int(num) == 4:\n",
    "        name1 = input(\"변경할 친구 이름 입력하시오 : \")\n",
    "        name2 = input(\"어떻게 변경하시겠습니까 : \")\n",
    "        friend_name_change(name1,name2)\n",
    "    elif int(num) == 9:\n",
    "        print(\"종료\")\n",
    "        break\n",
    "    \n",
    "\n"
   ]
  },
  {
   "cell_type": "code",
   "execution_count": 10,
   "metadata": {},
   "outputs": [
    {
     "name": "stdout",
     "output_type": "stream",
     "text": [
      "정수입력 : 4\n",
      "4의 팩토리얼은 24이다. \n"
     ]
    }
   ],
   "source": [
    "def fac(n):\n",
    "    if n == 1:\n",
    "        return 1\n",
    "    else:\n",
    "        return n*fac(n-1)\n",
    "        \n",
    "number = int(input(\"정수입력 : \"))\n",
    "fac_number = fac(number)\n",
    "print(\"%d의 팩토리얼은 %d이다. \"%(number,fac_number))"
   ]
  },
  {
   "cell_type": "code",
   "execution_count": 3,
   "metadata": {
    "scrolled": true
   },
   "outputs": [
    {
     "name": "stdout",
     "output_type": "stream",
     "text": [
      "1부터 100사이의 숫자를 맞추시오.\n",
      "숫자 입력 : 50\n",
      "정답은 높습니다. 정답과 가깝습니다!! 조금만 낮춰보세요!!\n",
      "숫자 입력 : 49\n",
      "정답은 높습니다. 정답과 가깝습니다!! 조금만 낮춰보세요!!\n",
      "숫자 입력 : 48\n",
      "정답은 높습니다. 정답과 가깝습니다!! 조금만 낮춰보세요!!\n",
      "숫자 입력 : 47\n",
      "정답은 높습니다. 정답과 가깝습니다!! 조금만 낮춰보세요!!\n",
      "숫자 입력 : 46\n",
      "정답입니다.\n"
     ]
    }
   ],
   "source": [
    "import random\n",
    "\n",
    "message = \"1부터 100사이의 숫자를 맞추시오.\"\n",
    "print(message)\n",
    "\n",
    "answer_num = random.randint(1,100)\n",
    "\n",
    "while True:\n",
    "    num = input(\"숫자 입력 : \")\n",
    "    distance = answer_num - int(num)\n",
    "    if distance == 0:\n",
    "        print(\"정답입니다.\")\n",
    "        break\n",
    "        \n",
    "        \n",
    "    if distance > 0:\n",
    "        if distance<10:\n",
    "            print(\"정답은 낮습니다. 정답과 가깝습니다! 조금만 높혀보세요!!\")\n",
    "        elif distance <30 :\n",
    "            print(\"정답은 낮습니다. 더 높혀 보세요 \")\n",
    "        else:\n",
    "            print(\"정답은 낮습니다. 아주많이 높혀보세요\")\n",
    "    else :\n",
    "        if distance>-10:\n",
    "            print(\"정답은 높습니다. 정답과 가깝습니다!! 조금만 낮춰보세요!!\")\n",
    "        elif distance >-30:\n",
    "            print(\"정답은 높습니다. 더 낮혀보세요.\")\n",
    "        else:\n",
    "            print(\"정답은 높습니다. 아주많이 낮춰보세요.\")"
   ]
  },
  {
   "cell_type": "code",
   "execution_count": null,
   "metadata": {},
   "outputs": [],
   "source": []
  }
 ],
 "metadata": {
  "kernelspec": {
   "display_name": "Python 3",
   "language": "python",
   "name": "python3"
  },
  "language_info": {
   "codemirror_mode": {
    "name": "ipython",
    "version": 3
   },
   "file_extension": ".py",
   "mimetype": "text/x-python",
   "name": "python",
   "nbconvert_exporter": "python",
   "pygments_lexer": "ipython3",
   "version": "3.7.6"
  }
 },
 "nbformat": 4,
 "nbformat_minor": 4
}
