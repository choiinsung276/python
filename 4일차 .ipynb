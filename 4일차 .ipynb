{
 "cells": [
  {
   "cell_type": "markdown",
   "metadata": {},
   "source": [
    "# 번역 1. 컴파일러 ->일괄처리 : C,C++,java\n",
    "# 인터프리터 ->한줄씩 : 스크립트언어,python"
   ]
  },
  {
   "cell_type": "markdown",
   "metadata": {},
   "source": [
    "# 실행파일만들기\n",
    " + pyinstaller, py2exe\n",
    " \n",
    " pip install pyinstaller"
   ]
  },
  {
   "cell_type": "markdown",
   "metadata": {},
   "source": [
    "# 함수란 : 일정한 작업을 수행하는 코드 \n",
    "# 프로그램의 유지보수를 쉽게 해준다."
   ]
  },
  {
   "cell_type": "code",
   "execution_count": 1,
   "metadata": {},
   "outputs": [
    {
     "name": "stdout",
     "output_type": "stream",
     "text": [
      "*********\n",
      "  친구   \n",
      "1.친구 목록 출력\n"
     ]
    }
   ],
   "source": [
    "\n",
    "print(\"*********\")\n",
    "print(\"  친구   \")\n",
    "print(\"1.친구 목록 출력\")\n",
    "print(\"2. 친구 추가\")"
   ]
  },
  {
   "cell_type": "markdown",
   "metadata": {},
   "source": [
    "# 함수 정의\n",
    "def 함수이름(...):\n",
    "     코드정의\n",
    "     (return ..)"
   ]
  },
  {
   "cell_type": "code",
   "execution_count": 2,
   "metadata": {},
   "outputs": [
    {
     "name": "stdout",
     "output_type": "stream",
     "text": [
      "****************************************"
     ]
    }
   ],
   "source": [
    "def line():\n",
    "    for v in range(40):\n",
    "        print(\"*\", end=\"\")\n",
    "        \n",
    "line()"
   ]
  },
  {
   "cell_type": "markdown",
   "metadata": {},
   "source": [
    "# 함수 호출 유형 (방식\n",
    "## 인자\n",
    "1)return 을 함수종료로도 사용가능  \n",
    "2)return num1,num2 (결과를 튜플로 받음 패키징한것)"
   ]
  },
  {
   "cell_type": "markdown",
   "metadata": {},
   "source": [
    "# 5.함수의 설계 \n",
    "1. 재사용성\n",
    "2. 단일기능"
   ]
  },
  {
   "cell_type": "markdown",
   "metadata": {},
   "source": [
    "# 함수의 종류\n",
    "1.내장함수(built-in)\n",
    "2.외장함수 import \n",
    "3.사용자 정의 함수"
   ]
  },
  {
   "cell_type": "markdown",
   "metadata": {},
   "source": [
    "# 파이썬에서 함수를 지원하기 위한 문법\n"
   ]
  },
  {
   "cell_type": "code",
   "execution_count": 3,
   "metadata": {},
   "outputs": [
    {
     "name": "stdout",
     "output_type": "stream",
     "text": [
      "지역대표 홍길동\n",
      "전국 대표\n"
     ]
    }
   ],
   "source": [
    "# 변수의 유효범위(생존범위)\n",
    "player = \"전국 대표\"\n",
    "def funcSoccer():\n",
    "    name = \"홍길동\"\n",
    "    player = \"지역대표\"\n",
    "    print(player, name)\n",
    "    \n",
    "funcSoccer()\n",
    "print(player)\n"
   ]
  },
  {
   "cell_type": "code",
   "execution_count": 4,
   "metadata": {},
   "outputs": [
    {
     "name": "stdout",
     "output_type": "stream",
     "text": [
      "******************************\n"
     ]
    }
   ],
   "source": [
    "def line(cnt):\n",
    "    for v in range(cnt):\n",
    "        print(\"*\",end=\"\")\n",
    "        \n",
    "    print()\n",
    "    \n",
    "line(30)"
   ]
  },
  {
   "cell_type": "code",
   "execution_count": 8,
   "metadata": {},
   "outputs": [
    {
     "name": "stdout",
     "output_type": "stream",
     "text": [
      "******************************\n"
     ]
    }
   ],
   "source": [
    "def line(type, cnt=30):\n",
    "    for v in range(cnt):\n",
    "        print(type,end=\"\")\n",
    "        \n",
    "    print()\n",
    "    \n",
    "line('*',30)"
   ]
  },
  {
   "cell_type": "markdown",
   "metadata": {},
   "source": [
    "# 디폴트 인수는 맨뒤로!!!def line(type,cnt=30):"
   ]
  },
  {
   "cell_type": "code",
   "execution_count": 15,
   "metadata": {},
   "outputs": [
    {
     "name": "stdout",
     "output_type": "stream",
     "text": [
      "안녕하세요 ~ 최인성에 사는 경기님...당신의 나의는18입니다.\n",
      "안녕하세요 ~ 경기에 사는 최인성성님...당신의 나의는28입니다.\n",
      "안녕하세요 ~ 인천에 사는 임꺽정님...당신의 나의는20입니다.\n"
     ]
    }
   ],
   "source": [
    "def hello(addr, name, age):\n",
    "    if name == None:\n",
    "        print(\"이름을 반드시 입력해주세요 .\")\n",
    "        return\n",
    "    \n",
    "    print(\"안녕하세요 ~ {}에 사는 {}님...당신의 나의는{}입니다.\".format(addr,name,age))\n",
    "    \n",
    "hello('최인성','경기',18)\n",
    "hello(name = '최인성성',addr ='경기',age = 28)\n",
    "hello(\"인천\", name=\"임꺽정\",age=20)"
   ]
  },
  {
   "cell_type": "markdown",
   "metadata": {},
   "source": [
    "# 함수 내용에 if문-return 으로 예외처리 할수있음"
   ]
  },
  {
   "cell_type": "markdown",
   "metadata": {},
   "source": [
    "# 함수 사용할때 인수를 넣을때 직접 인수명='변수' 하면 순서에 안맞춰도됨\n",
    "\n",
    "# 인수명 쓰면 순서 안지켜도됨"
   ]
  },
  {
   "cell_type": "code",
   "execution_count": 19,
   "metadata": {},
   "outputs": [
    {
     "name": "stdout",
     "output_type": "stream",
     "text": [
      "홍길동 님 환영 : 60 40\n",
      "홍길동,임꺽정 님 환영 : 50 50\n"
     ]
    }
   ],
   "source": [
    "def greeting(height, weight, *name):\n",
    "    for n in name:\n",
    "        print(n, \"님 환영 :\", height, weight)\n",
    "        \n",
    "greeting('60','40',\"홍길동\")\n",
    "greeting('50','50',\"홍길동,\"\"임꺽정\",)"
   ]
  },
  {
   "cell_type": "code",
   "execution_count": 20,
   "metadata": {},
   "outputs": [
    {
     "name": "stdout",
     "output_type": "stream",
     "text": [
      "80 180\n",
      "{'name': '홍길동', 'age': 20, 'addr': '서울'}\n"
     ]
    }
   ],
   "source": [
    "def hi(weight,height, **other):\n",
    "    print(weight,height)\n",
    "    print(other)\n",
    "    \n",
    "hi(80,180,name=\"홍길동\",age =20, addr=\"서울\")"
   ]
  },
  {
   "cell_type": "markdown",
   "metadata": {},
   "source": [
    "# **kwargs Key word 파라미터 \n",
    "## 인수 사용방법 (key1='value1',key2='value2',...)"
   ]
  },
  {
   "cell_type": "code",
   "execution_count": 22,
   "metadata": {},
   "outputs": [
    {
     "name": "stdout",
     "output_type": "stream",
     "text": [
      "10 2 3 4\n"
     ]
    }
   ],
   "source": [
    "def ab(a,b,c,d):\n",
    "    print(a,b,c,d)\n",
    "    \n",
    "data = {'c':3,'b':2,\"d\":4}\n",
    "ab(10,**data)"
   ]
  },
  {
   "cell_type": "markdown",
   "metadata": {},
   "source": [
    "# kwargs를 인수로 그냥 대입할수도있음  "
   ]
  },
  {
   "cell_type": "markdown",
   "metadata": {},
   "source": [
    "# 자주 쓰는 내장함수\n",
    "1. all() any()\n",
    "# 2. enumerate(iterator) : 순서있는 자료형을 입력받아 인덱스 값을 포함해서 리턴한다.\n",
    "튜플 리스트 문자형 , 튜플로 전달해줌 (인덱스,값) 굉장히 많이 쓴다"
   ]
  },
  {
   "cell_type": "code",
   "execution_count": 25,
   "metadata": {},
   "outputs": [
    {
     "name": "stdout",
     "output_type": "stream",
     "text": [
      "0 : 홍길동\n",
      "1 : 임꺽정\n",
      "2 : 3.14\n",
      "3 : True\n"
     ]
    }
   ],
   "source": [
    "enum1 = enumerate([\"홍길동\",\"임꺽정\",3.14,True])\n",
    "\n",
    "#enum1 = [\"홍길동\",\"임꺽정\",3.14,True] << 이거를 enumerate사용\n",
    "\n",
    "for a,b in enum1:\n",
    "    print(a,\":\",b)"
   ]
  },
  {
   "cell_type": "markdown",
   "metadata": {},
   "source": [
    "# eval(expression) : 표현식을 파이썬에서 실행가능하게 만들어주는 역활\n"
   ]
  },
  {
   "cell_type": "code",
   "execution_count": 26,
   "metadata": {},
   "outputs": [
    {
     "name": "stdout",
     "output_type": "stream",
     "text": [
      "3+4\n",
      "7\n"
     ]
    }
   ],
   "source": [
    "print(\"3+4\")\n",
    "print(eval(\"3+4\"))"
   ]
  },
  {
   "cell_type": "code",
   "execution_count": 29,
   "metadata": {},
   "outputs": [
    {
     "name": "stdout",
     "output_type": "stream",
     "text": [
      "all([1,2,3,4,0])\n",
      "True\n"
     ]
    }
   ],
   "source": [
    "print(\"all([1,2,3,4,0])\")\n",
    "print(eval(\"all([1,2,3,4,-3])\"))"
   ]
  },
  {
   "cell_type": "markdown",
   "metadata": {},
   "source": [
    "# Map(function,iterable) : 집합의 각 요소가 함수에 의해 수행된 결과 리턴"
   ]
  },
  {
   "cell_type": "markdown",
   "metadata": {},
   "source": [
    "# zip(iterable) 동일한 개수로 이루어진 자료형을 묶어주는 역활을 하는 함수\n",
    "\n",
    "인덱스 자리별로 각 각의 그 인덱스 값끼리 모아줌"
   ]
  },
  {
   "cell_type": "code",
   "execution_count": 34,
   "metadata": {},
   "outputs": [
    {
     "name": "stdout",
     "output_type": "stream",
     "text": [
      "[0, 1, 0, 1, 2, 1, 1, 1, 1]\n"
     ]
    }
   ],
   "source": [
    "A =[1,4,6,8,4,3,5,7]\n",
    "B =[6,7,3,4,2,9,6,3]\n",
    "\n",
    "def counting(A,m):\n",
    "    n = len(A)\n",
    "    count = [0] * (m+1)\n",
    "    for k in range(n):\n",
    "        count[A[k]] += 1\n",
    "    return count\n",
    "\n",
    "def fast_sol(A,B,m):\n",
    "    n = len(A)\n",
    "    sum_a = sum(A)\n",
    "    sum_b = sum(B)\n",
    "    d = sum_b - sum_a\n",
    "    if d % 2 == 1:\n",
    "        return False\n",
    "    d //= 2\n",
    "    count = counting(A,m)\n",
    "    for i in range(n):\n",
    "        if 0<=B[i] - d and B[i] -d <= m and count[B[i] - d] >0:\n",
    "            return True\n",
    "        return False\n",
    "\n",
    "print(counting(A,8))"
   ]
  },
  {
   "cell_type": "code",
   "execution_count": 36,
   "metadata": {},
   "outputs": [
    {
     "name": "stdout",
     "output_type": "stream",
     "text": [
      "숫자 맞추기 게임\n",
      "=================\n",
      "\n",
      "1부터 100사이의 숫자를 맞추시오\n",
      "숫자를 입력하세요 : 50\n",
      "값이 높습니다.\n",
      "--------------------------------------------------\n",
      "1부터 100사이의 숫자를 맞추시오\n",
      "숫자를 입력하세요 : 40\n",
      "값이 높습니다.\n",
      "정답과 가까워졌습니다.\n",
      "--------------------------------------------------\n",
      "1부터 100사이의 숫자를 맞추시오\n",
      "숫자를 입력하세요 : 30\n",
      "값이 높습니다.\n",
      "정답과 가까워졌습니다.\n",
      "--------------------------------------------------\n",
      "1부터 100사이의 숫자를 맞추시오\n",
      "숫자를 입력하세요 : 20\n",
      "값이 높습니다.\n",
      "정답과 가까워졌습니다.\n",
      "--------------------------------------------------\n",
      "1부터 100사이의 숫자를 맞추시오\n",
      "숫자를 입력하세요 : 10\n",
      "값이 낮습니다.\n",
      "정답과 멀어졌습니다.\n",
      "--------------------------------------------------\n",
      "1부터 100사이의 숫자를 맞추시오\n",
      "숫자를 입력하세요 : 15\n",
      "값이 낮습니다.\n",
      "정답과 가까워졌습니다.\n",
      "--------------------------------------------------\n",
      "1부터 100사이의 숫자를 맞추시오\n",
      "숫자를 입력하세요 : 16\n",
      "값이 낮습니다.\n",
      "정답과 가까워졌습니다.\n",
      "--------------------------------------------------\n",
      "1부터 100사이의 숫자를 맞추시오\n",
      "숫자를 입력하세요 : 17\n",
      "정답입니다! 7번 시도하셨습니다.\n"
     ]
    }
   ],
   "source": [
    "def output_result(computer, user):\n",
    "    \n",
    "    if computer < user: print('값이 높습니다.')\n",
    "    else: print('값이 낮습니다.')\n",
    "    \n",
    "def check_distance(computer, user, distance):\n",
    "    new_distance = abs(computer - user) \n",
    "    if new_distance < distance: print('정답과 가까워졌습니다.')\n",
    "        \n",
    "    else: print('정답과 멀어졌습니다.')\n",
    "    \n",
    "    return new_distance\n",
    "    \n",
    "import random\n",
    "\n",
    "print('숫자 맞추기 게임')\n",
    "print('=================\\n')\n",
    "\n",
    "computer = random.randint(1, 100)\n",
    "challenge_num = 0\n",
    "distance = 100\n",
    "while True:\n",
    "    print('1부터 100사이의 숫자를 맞추시오')\n",
    "    user = int(input('숫자를 입력하세요 : '))\n",
    "    \n",
    "    if user == computer:\n",
    "        print('정답입니다! %d번 시도하셨습니다.' % challenge_num)\n",
    "        break\n",
    "        \n",
    "    output_result(computer, user)\n",
    "    if challenge_num >=1:\n",
    "        distance = check_distance(computer, user, distance)\n",
    "    challenge_num += 1\n",
    "    print('-' * 50)"
   ]
  },
  {
   "cell_type": "code",
   "execution_count": null,
   "metadata": {},
   "outputs": [],
   "source": []
  }
 ],
 "metadata": {
  "kernelspec": {
   "display_name": "Python 3",
   "language": "python",
   "name": "python3"
  },
  "language_info": {
   "codemirror_mode": {
    "name": "ipython",
    "version": 3
   },
   "file_extension": ".py",
   "mimetype": "text/x-python",
   "name": "python",
   "nbconvert_exporter": "python",
   "pygments_lexer": "ipython3",
   "version": "3.7.6"
  }
 },
 "nbformat": 4,
 "nbformat_minor": 4
}
