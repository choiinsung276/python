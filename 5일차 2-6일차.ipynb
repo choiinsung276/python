{
 "cells": [
  {
   "cell_type": "markdown",
   "metadata": {},
   "source": [
    "# 클래스  \n",
    "## 1) 묶음(BLOCK) : 변수와 함수를 묶어주는 단위\n",
    "    - 변수 -멤버 변수(클래스입장에서) , 속성(외부에서는속성이라함)\n",
    "    - 함수 - 멤버함수(클래스안에 함수),메서드\n",
    "## 2) 설계도(추상적) -> 구현 : 객체, 인스턴스\n",
    "## 3) . 접근 연산자 사용\n",
    "## 4) 사용자 정의 자료형 : 내가원하는 데이터 타입을 만들 수 있음\n",
    "## 5) 객체의 조건\n",
    "    - 상속성(inheritance) 재사용 비용 시간\n",
    "    - 다형성(polymorphism) \n",
    "    - 캡슐화(encapsulation) 편리성 보안성\n",
    "# 클래스내의 함수는 self"
   ]
  },
  {
   "cell_type": "code",
   "execution_count": 8,
   "metadata": {},
   "outputs": [
    {
     "data": {
      "text/plain": [
       "<__main__.Test at 0x265466e3508>"
      ]
     },
     "execution_count": 8,
     "metadata": {},
     "output_type": "execute_result"
    }
   ],
   "source": [
    "class Test:\n",
    "    a = 10\n",
    "    \n",
    "    def display(self):\n",
    "        print(\"Test클래스 : \", self.a)\n",
    "\n",
    "Test()"
   ]
  },
  {
   "cell_type": "markdown",
   "metadata": {},
   "source": [
    "# 객체 생성인지 함수 호출인지\n",
    "# 클래스는 대문자 \n",
    "# 함수는 소문자"
   ]
  },
  {
   "cell_type": "code",
   "execution_count": 4,
   "metadata": {},
   "outputs": [
    {
     "name": "stdout",
     "output_type": "stream",
     "text": [
      "10\n",
      "10\n"
     ]
    }
   ],
   "source": [
    "print(Test().a)\n",
    "Test().a = 100  \n",
    "print(Test().a)"
   ]
  },
  {
   "cell_type": "markdown",
   "metadata": {},
   "source": [
    "# 바뀌지 않은 이유 총 3개가 만들어짐\n",
    "# 서로다른 메모리가 계속 만들어짐 \n",
    "# 다시 접근 할수없음"
   ]
  },
  {
   "cell_type": "code",
   "execution_count": 9,
   "metadata": {},
   "outputs": [
    {
     "name": "stdout",
     "output_type": "stream",
     "text": [
      "10\n",
      "100\n"
     ]
    }
   ],
   "source": [
    "ob1 = Test()\n",
    "print(ob1.a)\n",
    "ob1.a = 100\n",
    "print(ob1.a)"
   ]
  },
  {
   "cell_type": "code",
   "execution_count": 10,
   "metadata": {},
   "outputs": [
    {
     "name": "stdout",
     "output_type": "stream",
     "text": [
      "Test클래스 :  100\n"
     ]
    }
   ],
   "source": [
    "ob1.display()"
   ]
  },
  {
   "cell_type": "code",
   "execution_count": 11,
   "metadata": {},
   "outputs": [
    {
     "name": "stdout",
     "output_type": "stream",
     "text": [
      "10\n"
     ]
    }
   ],
   "source": [
    "ob2 = Test()\n",
    "print(ob2.a)"
   ]
  },
  {
   "cell_type": "code",
   "execution_count": 14,
   "metadata": {},
   "outputs": [
    {
     "name": "stdout",
     "output_type": "stream",
     "text": [
      "<class '__main__.Test'>\n",
      "<class 'int'>\n",
      "<class 'str'>\n"
     ]
    }
   ],
   "source": [
    "print(type(ob2))\n",
    "a = 10\n",
    "print(type(a))\n",
    "a= \"abcd\"\n",
    "print(type(a))"
   ]
  },
  {
   "cell_type": "code",
   "execution_count": 15,
   "metadata": {},
   "outputs": [
    {
     "name": "stdout",
     "output_type": "stream",
     "text": [
      "<class '__main__.Test'>\n"
     ]
    }
   ],
   "source": [
    "print(type(ob1))"
   ]
  },
  {
   "cell_type": "code",
   "execution_count": null,
   "metadata": {},
   "outputs": [],
   "source": []
  },
  {
   "cell_type": "code",
   "execution_count": null,
   "metadata": {},
   "outputs": [],
   "source": []
  },
  {
   "cell_type": "code",
   "execution_count": null,
   "metadata": {},
   "outputs": [],
   "source": [
    "find_name_index = \n",
    "for i in 3: \n",
    "    if sys.argv[1] == i[0]:\n",
    "        find_name_index = User_list.index(i)"
   ]
  },
  {
   "cell_type": "code",
   "execution_count": null,
   "metadata": {},
   "outputs": [],
   "source": []
  },
  {
   "cell_type": "code",
   "execution_count": 23,
   "metadata": {},
   "outputs": [
    {
     "name": "stdout",
     "output_type": "stream",
     "text": [
      "이름:  홍길동\n",
      "전화:  010-111-1111\n",
      "주소:  서울시 강남구\n"
     ]
    }
   ],
   "source": [
    "import sys\n",
    "\n",
    "User_list = []\n",
    "\n",
    "User_list.append([\"홍길동\", \"010-111-1111\", \"서울시 강남구\"])\n",
    "User_list.append([\"임꺽정\", \"010-222-2222\", \"서울시 강북구\"])\n",
    "User_list.append([\"신돌석\", \"010-333-4444\", \"서울시 강동구\"])\n",
    "User_list.append([\"홍경래\", \"010-444-4444\", \"서울시 강서구\"])\n",
    "\n",
    "\n",
    "for i in User_list: # i = User_list[0] ~ User_list[3]\n",
    "    if sys.argv[1] == i[0]:\n",
    "        find_name_index = User_list.index(i)\n",
    "\n",
    "print('이름: ', User_list[find_name_index][0])\n",
    "print('전화: ', User_list[find_name_index][1])\n",
    "print('주소: ', User_list[find_name_index][2])\n",
    "\n"
   ]
  },
  {
   "cell_type": "code",
   "execution_count": 10,
   "metadata": {},
   "outputs": [],
   "source": [
    "# 국적, 이름, 나이, 키, 취미 묶어서 저장하고싶으면 class \n",
    "class Person:\n",
    "    nation = \"한국\"\n",
    "    name = str()\n",
    "    age = int()\n",
    "    height = float()\n",
    "    hobby = []\n",
    "    \n",
    "    def print(self):\n",
    "        print(\"국적 : \", self.nation)\n",
    "        print(\"이름 : \", self.name)\n",
    "        print(\"나이 : \", self.age)\n",
    "        print(\"신장 : \", self.height)\n",
    "        print(\"취미 : \", self.hobby)\n",
    "        print(\"==\")\n",
    "        \n",
    "        "
   ]
  },
  {
   "cell_type": "code",
   "execution_count": 14,
   "metadata": {},
   "outputs": [
    {
     "name": "stdout",
     "output_type": "stream",
     "text": [
      "국적 :  한국\n",
      "이름 :  홍길동\n",
      "나이 :  20\n",
      "신장 :  170\n",
      "취미 :  ['독서', '여행']\n",
      "==\n",
      "국적 :  프랑스\n",
      "이름 :  임꺽정\n",
      "나이 :  25\n",
      "신장 :  170\n",
      "취미 :  ['독서', '여행', '우표수집']\n",
      "==\n",
      "국적 :  미국\n",
      "이름 :  윌슨\n",
      "나이 :  30\n",
      "신장 :  140\n",
      "취미 :  ['낚시']\n",
      "==\n",
      "국적 :  한국\n",
      "이름 :  홍길동\n",
      "나이 :  20\n",
      "신장:  170\n",
      "취미:  ['독서', '여행']\n",
      "----------\n",
      "국적 :  프랑스\n",
      "이름 :  임꺽정\n",
      "나이 :  25\n",
      "신장:  170\n",
      "취미:  ['독서', '여행', '우표수집']\n",
      "----------\n",
      "국적 :  미국\n",
      "이름 :  윌슨\n",
      "나이 :  30\n",
      "신장:  140\n",
      "취미:  ['낚시']\n",
      "----------\n"
     ]
    }
   ],
   "source": [
    "p1=Person()                               #객체생성\n",
    "p1.nation=\"한국\"\n",
    "p1.name=\"홍길동\"\n",
    "p1.age=20\n",
    "p1.height=170\n",
    "p1.hobby=[\"독서\",\"여행\"]\n",
    "p1.print()\n",
    "\n",
    "p2=Person()                               #객체생성\n",
    "p2.nation=\"프랑스\"\n",
    "p2.name=\"임꺽정\"\n",
    "p2.age=25\n",
    "p2.height=170\n",
    "p2.hobby=[\"독서\",\"여행\",\"우표수집\"]\n",
    "p2.print()\n",
    "\n",
    "\n",
    "p3=Person()                               #객체생성\n",
    "p3.nation=\"미국\"\n",
    "p3.name=\"윌슨\"\n",
    "p3.age=30\n",
    "p3.height=140\n",
    "p3.hobby=[\"낚시\"]\n",
    "p3.print()\n",
    "\n",
    "data = [p1,p2,p3]\n",
    "\n",
    "for i in range(len(data)):\n",
    "    print(\"국적 : \", data[i].nation)\n",
    "    print(\"이름 : \", data[i].name)\n",
    "    print(\"나이 : \", data[i].age)\n",
    "    print(\"신장: \", data[i].height)\n",
    "    print(\"취미: \", data[i].hobby)\n",
    "    print(\"----------\")"
   ]
  },
  {
   "cell_type": "markdown",
   "metadata": {},
   "source": [
    "#  1)self \n",
    "## - 현재 사용중인 객체의 주소를 저장하고 있는 참조 변수\n",
    "## - read only"
   ]
  },
  {
   "cell_type": "code",
   "execution_count": 22,
   "metadata": {},
   "outputs": [],
   "source": [
    "class Test1:\n",
    "    a = int()\n",
    "    b = float()\n",
    "    c = str()\n",
    "    \n",
    "    def show(self):\n",
    "        print(self.a, self.b, self.c)\n",
    "        \n",
    "    def setValue(self, x,y,z):\n",
    "        print(\"sslef의 주소\", id(self))\n",
    "        self.a = x\n",
    "        self.b = y\n",
    "        self.c = z"
   ]
  },
  {
   "cell_type": "code",
   "execution_count": 23,
   "metadata": {},
   "outputs": [],
   "source": [
    "t1 = Test1()\n",
    "t2 = Test1()\n",
    "t3 = Test1()"
   ]
  },
  {
   "cell_type": "markdown",
   "metadata": {},
   "source": [
    "# heap : a 100번지 b,c,show()\n",
    "# Stack : t1 100번지\n",
    "# t2 객체 생설될떄 heap 에 a 200번지 b,c,show()\n",
    "그리고 스텍에는 t2 200번지\n",
    "t2객체 생설될때 heap에 abcshow 스텍에는  t3 300번지"
   ]
  },
  {
   "cell_type": "code",
   "execution_count": 24,
   "metadata": {},
   "outputs": [
    {
     "name": "stdout",
     "output_type": "stream",
     "text": [
      "sslef의 주소 2981431232776\n",
      "20 3.14 임꺽정\n",
      "t1의 주소 2981431232776\n"
     ]
    }
   ],
   "source": [
    "t1.a = 10\n",
    "t1.b = 3.14\n",
    "t1.c = \"홍길동\"\n",
    "\n",
    "t1.setValue(20,3.14,\"임꺽정\") #변수이름 몰라도됨, setValue에 값의 제한코드를 추가함 , 눈에 안보이는 t1의 주소 self로 전달됨\n",
    "# 힙에 있는 정확한 객체의 주소를 찾아가기위해 self \n",
    "t1.show()\n",
    "print(\"t1의 주소\", id(t1))"
   ]
  },
  {
   "cell_type": "markdown",
   "metadata": {},
   "source": [
    "# t1으로 접근한다는것은 힙의 값을 바꿈 \n",
    "a (100번지) [ 10] b [3.14]\n",
    "\n",
    "# 클래스 변수로 변수값바꾸지않고 !!!!!!\n",
    "# 함수로서 값 대입 !!"
   ]
  },
  {
   "cell_type": "markdown",
   "metadata": {},
   "source": [
    "# 디자인패턴\n",
    "\n",
    "# 클래스 작성 문법\n",
    "\n",
    "2) 생성자( 생성자(메서드)와 소멸자(메서드) : 객체를 생성하는 용도\n",
    "- 객체가 소멸할 때 호출되는 메서드가 소멸자이다.\n",
    "\n",
    "# static - 동일한 공간을 모든 객체들이 공동으로 사용\n",
    "# 클래스 변수는 공동으로 사용 공동으로 하는 변수\n",
    "\n",
    "# _,__\n",
    "- : 기본 인터프리터(명령프롬프트)에서 사용(최근 사용한 값을 저장하고 불러오기)\n",
    "    : 값을 무시\n",
    "        : 변수명과 함께 사용(접근 권한), __와 함께 사용\n",
    "        \n",
    "        인터프리터에 입력하면 첫번째 용도\n",
    "        >>> 10\n",
    "        10\n",
    "        >>> _\n",
    "        10\n",
    "        >>> _ *3\n",
    "        30\n",
    "         "
   ]
  },
  {
   "cell_type": "code",
   "execution_count": 33,
   "metadata": {},
   "outputs": [],
   "source": [
    "#생성자\n",
    "class Test2:\n",
    "    a = int()\n",
    "    b = str()\n",
    "    def __init__(self,argv=None):\n",
    "        self.a = 10\n",
    "        self.b = \"안녕하세요\"\n",
    "        print(\"생성자 호출된: \", argv)\n",
    "    \n",
    "    def show(self):\n",
    "        print(self.a, self.b)"
   ]
  },
  {
   "cell_type": "code",
   "execution_count": 34,
   "metadata": {},
   "outputs": [
    {
     "name": "stdout",
     "output_type": "stream",
     "text": [
      "생성자 호출된:  10\n",
      "10 안녕하세요\n",
      "생성자 호출된:  None\n",
      "10 안녕하세요\n"
     ]
    }
   ],
   "source": [
    "t1 = Test2(10) \n",
    "t1.show()\n",
    "\n",
    "t2 = Test2()\n",
    "t2.show()"
   ]
  },
  {
   "cell_type": "markdown",
   "metadata": {},
   "source": [
    "# t1 = Test2() 생성자 메서드 호출이라고 볼수도있음"
   ]
  },
  {
   "cell_type": "code",
   "execution_count": 28,
   "metadata": {},
   "outputs": [
    {
     "name": "stdout",
     "output_type": "stream",
     "text": [
      "[1, 1, 3, 4]\n",
      "POP > 4\n",
      "POP > 3\n",
      "POP > 1\n",
      "POP > 1\n"
     ]
    }
   ],
   "source": [
    "def push(item):\n",
    "    stack.append(item)\n",
    "    \n",
    "def pop():\n",
    "    return stack.pop()\n",
    "\n",
    "stack =  []\n",
    "push(1)\n",
    "push(1)\n",
    "push(3)\n",
    "push(4)\n",
    "print(stack)\n",
    "\n",
    "while stack:\n",
    "    print(\"POP > {}\".format(pop()))"
   ]
  },
  {
   "cell_type": "code",
   "execution_count": 51,
   "metadata": {},
   "outputs": [],
   "source": [
    "class Test2:\n",
    "    a = int()\n",
    "    b = str()\n",
    "    \n",
    "    def show(self):\n",
    "        print(self.a, self.b)\n",
    "        \n",
    "    def setValue(self,a,b):\n",
    "        self.a = a\n",
    "        self.b = b\n",
    "        \n",
    "    def __init__(self,a=0,b=0):\n",
    "        self.a = a\n",
    "        self.b = b\n",
    "        \n",
    "    def __del__(self):\n",
    "        print(\"소멸자호출\")"
   ]
  },
  {
   "cell_type": "code",
   "execution_count": 53,
   "metadata": {},
   "outputs": [
    {
     "name": "stdout",
     "output_type": "stream",
     "text": [
      "소멸자호출\n",
      "0 0\n",
      "20 hello\n"
     ]
    },
    {
     "data": {
      "text/plain": [
       "<__main__.Test2 at 0x2b62b277fc8>"
      ]
     },
     "execution_count": 53,
     "metadata": {},
     "output_type": "execute_result"
    }
   ],
   "source": [
    "t1 = Test2()\n",
    "t1.show()\n",
    "\n",
    "t1.setValue(20,'hello')\n",
    "t1.show()\n",
    "\n",
    "Test2()"
   ]
  },
  {
   "cell_type": "code",
   "execution_count": 57,
   "metadata": {},
   "outputs": [
    {
     "name": "stdout",
     "output_type": "stream",
     "text": [
      "10\n",
      "100 100\n",
      "200 100 100\n"
     ]
    }
   ],
   "source": [
    "# static\n",
    "class Test3:\n",
    "    a = 10\n",
    "    \n",
    "##################\n",
    "\n",
    "print(Test3.a)\n",
    "\n",
    "t1 = Test3()\n",
    "t2 = Test3()\n",
    "\n",
    "Test3.a=100\n",
    "\n",
    "print(t1.a, t2.a)\n",
    "\n",
    "t1.a = 200\n",
    "\n",
    "print(t1.a,t2.a,Test3.a)"
   ]
  },
  {
   "cell_type": "code",
   "execution_count": 64,
   "metadata": {},
   "outputs": [],
   "source": [
    "class Counter:\n",
    "    m_cnt = 0\n",
    "    \n",
    "    def __init__(self):\n",
    "        Counter.m_cnt +=1\n",
    "        \n",
    "    def printCount(self):\n",
    "        print(\"객체의 수 : \", self.m_cnt)"
   ]
  },
  {
   "cell_type": "code",
   "execution_count": 65,
   "metadata": {},
   "outputs": [],
   "source": [
    "a,b,c = Counter(), Counter(), Counter()"
   ]
  },
  {
   "cell_type": "code",
   "execution_count": 66,
   "metadata": {},
   "outputs": [
    {
     "name": "stdout",
     "output_type": "stream",
     "text": [
      "객체의 수 :  3\n",
      "객체의 수 :  3\n",
      "객체의 수 :  3\n"
     ]
    }
   ],
   "source": [
    "a.printCount()\n",
    "b.printCount()\n",
    "c.printCount()"
   ]
  },
  {
   "cell_type": "markdown",
   "metadata": {},
   "source": [
    "# 원형 공간을 사용하고싶으면 self.변수가 아닌 클래스명.변수 로 사용해야함\n",
    "\n",
    "# 주석으로 static이라고 말해줘야함 "
   ]
  },
  {
   "cell_type": "markdown",
   "metadata": {},
   "source": [
    "printCount함수를 3개 만들필요가 없음 낭비임"
   ]
  },
  {
   "cell_type": "code",
   "execution_count": null,
   "metadata": {},
   "outputs": [],
   "source": [
    "class Counter:\n",
    "    m_cnt = 0\n",
    "    \n",
    "    def __init__(self):\n",
    "        Counter.m_cnt +=1\n",
    "        \n",
    "    def staticPrintCount():\n",
    "        print(\"객체의 수 : \", Counter.m_cnt)\n",
    "        \n",
    "    sPrintCount = staticmethod(staticPrintCount)"
   ]
  },
  {
   "cell_type": "markdown",
   "metadata": {},
   "source": [
    "# @staticmethod 선언해야됨 함수앞에\n",
    "\n",
    "# 변수가 staticmethod가됨 변수 =staticmethod(함수명)\n",
    "\n",
    "# @ =  decorator 라고함 "
   ]
  },
  {
   "cell_type": "markdown",
   "metadata": {},
   "source": [
    "# 매개변수에 self가 없으면 한공간에만 만들어짐"
   ]
  },
  {
   "cell_type": "code",
   "execution_count": 78,
   "metadata": {},
   "outputs": [
    {
     "name": "stdout",
     "output_type": "stream",
     "text": [
      "객체의 수 :  12\n"
     ]
    }
   ],
   "source": [
    "a,b,c = Counter(), Counter(), Counter()\n",
    "Counter.staticPrintCount()"
   ]
  },
  {
   "cell_type": "markdown",
   "metadata": {},
   "source": [
    "# Counter.staticPrintCount() 스태틱메서드 사용법"
   ]
  },
  {
   "cell_type": "code",
   "execution_count": 84,
   "metadata": {},
   "outputs": [
    {
     "ename": "TypeError",
     "evalue": "work() takes 0 positional arguments but 1 was given",
     "output_type": "error",
     "traceback": [
      "\u001b[1;31m---------------------------------------------------------------------------\u001b[0m",
      "\u001b[1;31mTypeError\u001b[0m                                 Traceback (most recent call last)",
      "\u001b[1;32m<ipython-input-84-095062c8d115>\u001b[0m in \u001b[0;36m<module>\u001b[1;34m\u001b[0m\n\u001b[0;32m      7\u001b[0m \u001b[0mmom\u001b[0m \u001b[1;33m=\u001b[0m \u001b[0mFamily\u001b[0m\u001b[1;33m(\u001b[0m\u001b[1;33m)\u001b[0m\u001b[1;33m\u001b[0m\u001b[1;33m\u001b[0m\u001b[0m\n\u001b[0;32m      8\u001b[0m \u001b[0mfather\u001b[0m \u001b[1;33m=\u001b[0m \u001b[0mFamily\u001b[0m\u001b[1;33m(\u001b[0m\u001b[1;33m)\u001b[0m\u001b[1;33m\u001b[0m\u001b[1;33m\u001b[0m\u001b[0m\n\u001b[1;32m----> 9\u001b[1;33m \u001b[0mmom\u001b[0m\u001b[1;33m.\u001b[0m\u001b[0mwork\u001b[0m\u001b[1;33m(\u001b[0m\u001b[1;33m)\u001b[0m\u001b[1;33m\u001b[0m\u001b[1;33m\u001b[0m\u001b[0m\n\u001b[0m\u001b[0;32m     10\u001b[0m \u001b[0mfather\u001b[0m\u001b[1;33m.\u001b[0m\u001b[0mwork\u001b[0m\u001b[1;33m(\u001b[0m\u001b[1;33m)\u001b[0m\u001b[1;33m\u001b[0m\u001b[1;33m\u001b[0m\u001b[0m\n\u001b[0;32m     11\u001b[0m \u001b[1;33m\u001b[0m\u001b[0m\n",
      "\u001b[1;31mTypeError\u001b[0m: work() takes 0 positional arguments but 1 was given"
     ]
    }
   ],
   "source": [
    "class Family:\n",
    "    money = 0\n",
    "    \n",
    "    def work():\n",
    "        Family.money += 1\n",
    "        \n",
    "mom = Family()\n",
    "father = Family()\n",
    "mom.work()\n",
    "father.work()\n",
    "\n",
    "print(Family.money)"
   ]
  },
  {
   "cell_type": "code",
   "execution_count": 86,
   "metadata": {},
   "outputs": [
    {
     "name": "stdout",
     "output_type": "stream",
     "text": [
      "2\n"
     ]
    }
   ],
   "source": [
    "class Family:\n",
    "    money = 0\n",
    "    @staticmethod\n",
    "    def work():\n",
    "        Family.money += 1\n",
    "\n",
    "\n",
    "mom = Family() #엄마객체생성\n",
    "father = Family() #아빠객체생성\n",
    "mom.work()\n",
    "father.work()\n",
    " #돈은 공용\n",
    "print(Family.money)"
   ]
  },
  {
   "cell_type": "markdown",
   "metadata": {},
   "source": [
    "e1 = Employee(1111, \"홍길동\", 1000000, [\"여행\", \"낚시\", \"운동\"])\n",
    "e1.display()\n",
    "\n",
    "결과:\n",
    "    사번 : 1111\n",
    "    이름 : 홍길동\n",
    "    급여 : 1000000\n",
    "    취미 : 여행, 낚시, 운동\n",
    "    \n",
    "e2 = Employee(1112, \"임꺽정\", 1200000, [\"자전거\", \"볼링\"])\n",
    "e3 = Employee(1113, \"신돌석\", 1000000, [\"독서\"])\n",
    "\n",
    "total = Employee.getCount()\n",
    "print(\"총 인원수 : \", total)\n",
    "\n",
    "e3.setSalary(2500000)\n",
    "e3.appendHobby([\"피아노\", \"드론\"])\n",
    "e3.display()\n",
    "\n",
    "결과:\n",
    "    사번 : 1113\n",
    "    이름 : 신돌석\n",
    "    급여 : 2500000\n",
    "    취미 : 독서, 피아노, 드론\n",
    "'''"
   ]
  },
  {
   "cell_type": "code",
   "execution_count": 87,
   "metadata": {},
   "outputs": [],
   "source": [
    "#원래대로 설계된 맴버 변수 외에 객체별로 별도의 멤버변수를 추가할 수 있다."
   ]
  },
  {
   "cell_type": "code",
   "execution_count": 88,
   "metadata": {},
   "outputs": [
    {
     "name": "stdout",
     "output_type": "stream",
     "text": [
      "0\n"
     ]
    }
   ],
   "source": [
    "class Test:\n",
    "    a = 0\n",
    "    \n",
    "    def show(self):\n",
    "        print(self.a)\n",
    "        \n",
    "#####################\n",
    "\n",
    "ob1 = Test()\n",
    "ob1.show()"
   ]
  },
  {
   "cell_type": "code",
   "execution_count": 89,
   "metadata": {},
   "outputs": [
    {
     "name": "stdout",
     "output_type": "stream",
     "text": [
      "0\n"
     ]
    }
   ],
   "source": [
    "ob2 = Test()\n",
    "ob2.show()"
   ]
  },
  {
   "cell_type": "markdown",
   "metadata": {},
   "source": [
    "# ob2.b = 20 임시로 객체 ob2에 멤버변수 추가할수있음(편의성)"
   ]
  },
  {
   "cell_type": "code",
   "execution_count": 92,
   "metadata": {},
   "outputs": [
    {
     "name": "stdout",
     "output_type": "stream",
     "text": [
      "20 30\n"
     ]
    }
   ],
   "source": [
    "# _ : 값을무시\n",
    "\n",
    "a ,b, c = (10,20,30)\n",
    "# 20, 30 만 빼고 싶을때\n",
    "\n",
    "_, b, c = (10,20,30) \n",
    "print(b,c)"
   ]
  },
  {
   "cell_type": "code",
   "execution_count": 93,
   "metadata": {},
   "outputs": [
    {
     "name": "stdout",
     "output_type": "stream",
     "text": [
      "10 30\n"
     ]
    }
   ],
   "source": [
    "b,_, c = # "
   ]
  },
  {
   "cell_type": "code",
   "execution_count": 94,
   "metadata": {},
   "outputs": [
    {
     "name": "stdout",
     "output_type": "stream",
     "text": [
      "10 60\n"
     ]
    }
   ],
   "source": [
    "a, _, _, _, m, b = (10,20,30,40,50,60)\n",
    "print(a,b)"
   ]
  },
  {
   "cell_type": "code",
   "execution_count": 95,
   "metadata": {},
   "outputs": [
    {
     "name": "stdout",
     "output_type": "stream",
     "text": [
      "10 60\n"
     ]
    }
   ],
   "source": [
    "a, *_, b = (10,20,30,40,50,60)\n",
    "print(a,b)"
   ]
  },
  {
   "cell_type": "code",
   "execution_count": 97,
   "metadata": {},
   "outputs": [
    {
     "ename": "SyntaxError",
     "evalue": "invalid syntax (<ipython-input-97-8d0297e44a48>, line 1)",
     "output_type": "error",
     "traceback": [
      "\u001b[1;36m  File \u001b[1;32m\"<ipython-input-97-8d0297e44a48>\"\u001b[1;36m, line \u001b[1;32m1\u001b[0m\n\u001b[1;33m    for a, _ in enumerate[\"가\",\"나\",\"다\",\"라\"]\u001b[0m\n\u001b[1;37m                                          ^\u001b[0m\n\u001b[1;31mSyntaxError\u001b[0m\u001b[1;31m:\u001b[0m invalid syntax\n"
     ]
    }
   ],
   "source": [
    "for a, _ in enumerate[\"가\",\"나\",\"다\",\"라\"]\n",
    "print(a)"
   ]
  },
  {
   "cell_type": "code",
   "execution_count": 98,
   "metadata": {},
   "outputs": [
    {
     "ename": "SyntaxError",
     "evalue": "invalid syntax (<ipython-input-98-0a99e4a4a392>, line 1)",
     "output_type": "error",
     "traceback": [
      "\u001b[1;36m  File \u001b[1;32m\"<ipython-input-98-0a99e4a4a392>\"\u001b[1;36m, line \u001b[1;32m1\u001b[0m\n\u001b[1;33m    fr v in range(1):\u001b[0m\n\u001b[1;37m       ^\u001b[0m\n\u001b[1;31mSyntaxError\u001b[0m\u001b[1;31m:\u001b[0m invalid syntax\n"
     ]
    }
   ],
   "source": [
    "fr v in range(1):\n",
    "    print(\"%\".ㄴㄱ\n",
    "         )"
   ]
  },
  {
   "cell_type": "markdown",
   "metadata": {},
   "source": [
    "# _ : 접근권한 (의도만 접근권한) 경고표시\n",
    "# __ : 접근 못함 변수이름 바뀜 dir통해 바뀐 변수이름 확인 가능\n"
   ]
  },
  {
   "cell_type": "code",
   "execution_count": 107,
   "metadata": {},
   "outputs": [
    {
     "name": "stdout",
     "output_type": "stream",
     "text": [
      "안녕하세요\n",
      "홍길동입니다.\n",
      "다음에 또 봅시다.\n",
      "다음에 또 봅시다.\n"
     ]
    }
   ],
   "source": [
    "class Test:\n",
    "    str1 = \"안녕하세요\"\n",
    "    _str2 = \"홍길동입니다.\"\n",
    "    __str3 = \"다음에 또 봅시다.\"\n",
    "    def show(self):\n",
    "        print(self.__str3)\n",
    "    \n",
    "dir(Test)\n",
    "\n",
    "ob1 = Test()\n",
    "print(ob1.str1)\n",
    "print(ob1._str2)\n",
    "#print(ob1.__str3)\n",
    "ob1.show()\n",
    "print(ob1._Test__str3)"
   ]
  },
  {
   "cell_type": "markdown",
   "metadata": {},
   "source": [
    "### list Comprehension"
   ]
  },
  {
   "cell_type": "code",
   "execution_count": 108,
   "metadata": {},
   "outputs": [
    {
     "name": "stdout",
     "output_type": "stream",
     "text": [
      "[0, 1, 2, 3, 4, 5, 6, 7, 8, 9]\n"
     ]
    }
   ],
   "source": [
    "result = []\n",
    "for i in range(10):\n",
    "    result.append(i)\n",
    "    \n",
    "print(result)"
   ]
  },
  {
   "cell_type": "code",
   "execution_count": 111,
   "metadata": {},
   "outputs": [
    {
     "name": "stdout",
     "output_type": "stream",
     "text": [
      "[0, 2, 4, 6, 8]\n"
     ]
    }
   ],
   "source": [
    "result = [i for i in range(10)if i%2==0]\n",
    "print(result)"
   ]
  },
  {
   "cell_type": "code",
   "execution_count": 115,
   "metadata": {},
   "outputs": [
    {
     "name": "stdout",
     "output_type": "stream",
     "text": [
      "['hW', 'ho', 'hr', 'hl', 'hd', 'eW', 'eo', 'er', 'el', 'ed', 'lW', 'lo', 'lr', 'll', 'ld', 'lW', 'lo', 'lr', 'll', 'ld', 'oW', 'oo', 'or', 'ol', 'od']\n",
      "['hW', 'ho', 'hr', 'hl', 'hd', 'eW', 'eo', 'er', 'el', 'ed', 'lW', 'lo', 'lr', 'll', 'ld', 'lW', 'lo', 'lr', 'll', 'ld', 'oW', 'oo', 'or', 'ol', 'od']\n"
     ]
    }
   ],
   "source": [
    "word1 = \"hello\"\n",
    "word2 = \"World\"\n",
    "result1 = [a+b for a in word1 for b in word2]\n",
    "result2 = []\n",
    "for i in word1:\n",
    "    for j in word2:\n",
    "        result2.append(i + j)\n",
    "        \n",
    "print(result1)\n",
    "print(result2)\n",
    "        "
   ]
  },
  {
   "cell_type": "code",
   "execution_count": 116,
   "metadata": {},
   "outputs": [
    {
     "name": "stdout",
     "output_type": "stream",
     "text": [
      "['AO', 'AE', 'BO', 'BE', 'BA', 'CO', 'CE', 'CA']\n"
     ]
    }
   ],
   "source": [
    "case1 = [\"A\",\"B\",\"C\"]\n",
    "case2 = [\"O\",\"E\",\"A\"]\n",
    "\n",
    "result = [i+j for i in case1 for j in case2 if not(i==j)]\n",
    "print(result)\n",
    "#result = [i,j,len(i) for i,j in zip(UL,LL)]"
   ]
  },
  {
   "cell_type": "code",
   "execution_count": 136,
   "metadata": {},
   "outputs": [
    {
     "name": "stdout",
     "output_type": "stream",
     "text": [
      "[['THE', 'the', 3], ['QUICK', 'quick', 5], ['BROWN', 'brown', 5], ['FOX', 'fox', 3], ['JUMP', 'jump', 4], ['OVER', 'over', 4], ['THE', 'the', 3], ['LAZY', 'lazy', 4], ['DOG', 'dog', 3]]\n"
     ]
    }
   ],
   "source": [
    "words = \"The quick brown fox jump over the lazy dog\"\n",
    "\n",
    "#[[\"THE\", \"the\",3], [\"QUICK\",\"quick\",5],...]\n",
    "\n",
    "\n",
    "\n",
    "list1 = words.split(\" \")\n",
    "\n",
    "results=[[i.upper(), i.lower(), len(i)] for i in list1]\n",
    "print(results) \n"
   ]
  },
  {
   "cell_type": "code",
   "execution_count": 138,
   "metadata": {},
   "outputs": [
    {
     "ename": "NameError",
     "evalue": "name 'split' is not defined",
     "output_type": "error",
     "traceback": [
      "\u001b[1;31m---------------------------------------------------------------------------\u001b[0m",
      "\u001b[1;31mNameError\u001b[0m                                 Traceback (most recent call last)",
      "\u001b[1;32m<ipython-input-138-7f732a21e98e>\u001b[0m in \u001b[0;36m<module>\u001b[1;34m\u001b[0m\n\u001b[1;32m----> 1\u001b[1;33m \u001b[0mhelp\u001b[0m\u001b[1;33m(\u001b[0m\u001b[0msplit\u001b[0m\u001b[1;33m)\u001b[0m\u001b[1;33m\u001b[0m\u001b[1;33m\u001b[0m\u001b[0m\n\u001b[0m",
      "\u001b[1;31mNameError\u001b[0m: name 'split' is not defined"
     ]
    }
   ],
   "source": [
    "help(split)"
   ]
  },
  {
   "cell_type": "code",
   "execution_count": null,
   "metadata": {},
   "outputs": [],
   "source": []
  }
 ],
 "metadata": {
  "kernelspec": {
   "display_name": "Python 3",
   "language": "python",
   "name": "python3"
  },
  "language_info": {
   "codemirror_mode": {
    "name": "ipython",
    "version": 3
   },
   "file_extension": ".py",
   "mimetype": "text/x-python",
   "name": "python",
   "nbconvert_exporter": "python",
   "pygments_lexer": "ipython3",
   "version": "3.7.6"
  }
 },
 "nbformat": 4,
 "nbformat_minor": 4
}
