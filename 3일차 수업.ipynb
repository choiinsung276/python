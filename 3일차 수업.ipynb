{
 "cells": [
  {
   "cell_type": "markdown",
   "metadata": {},
   "source": [
    "##  연산자(operator)\n",
    "\n",
    "1) 산술 연산자 *(반복) +(연결) /(나눗셈) %(나머지 구할때, 출력) // (정수인 몫값)\n",
    "2) 비교 연산자\n",
    "    >,<,>=,<=, ==\n",
    "3) 논리 연산자 and or not\n",
    "4) 대입 연산자(치환,할당)\n",
    "    =, +=, *=, /= ...\n",
    "5) 포함 여부 연산자\n",
    "    in , not in\n",
    "6) 비트 연산자\n",
    "    &(and), |(or) ^(XOR) , ~(NOT) >> <<"
   ]
  },
  {
   "cell_type": "code",
   "execution_count": 9,
   "metadata": {},
   "outputs": [
    {
     "name": "stdout",
     "output_type": "stream",
     "text": [
      "3.3333333333333335\n",
      "3.3333\n",
      "3\n",
      "1024\n"
     ]
    }
   ],
   "source": [
    "print(10/3) # 나눗셈 몫 + 나머지\n",
    "a = 10 /3\n",
    "print(\"%0.4f\" % a) # 소수점 자리 정해주기\n",
    "print(10//3) # 정수인 몫값\n",
    "print(2**10)"
   ]
  },
  {
   "cell_type": "markdown",
   "metadata": {},
   "source": [
    "# and 연산 1-0 =0 , 1-1 = 1 , 0-1=0, 0-0=0\n",
    "# and 는 항상 참일때만 참"
   ]
  },
  {
   "cell_type": "markdown",
   "metadata": {},
   "source": [
    "# NOT 연산자는 반대로 해주는 연산자 (반전 , 토글)"
   ]
  },
  {
   "cell_type": "markdown",
   "metadata": {},
   "source": [
    "# bit > 8bit = byte > 1024byte, 2^10byte = 1KB> 1024 Kb , 2^20 byte  = 1MB > 1024MB , 2^30byte = 1GB"
   ]
  },
  {
   "cell_type": "code",
   "execution_count": 10,
   "metadata": {},
   "outputs": [
    {
     "name": "stdout",
     "output_type": "stream",
     "text": [
      "6\n",
      "4\n"
     ]
    }
   ],
   "source": [
    "print(12 and 6)\n",
    "print(12 & 6) # 2진수로 바껴서 and 비트 연산함"
   ]
  },
  {
   "cell_type": "markdown",
   "metadata": {},
   "source": [
    "# XOR 원본 xor key = 암호화\n",
    "암호화 xor key = 원본\n"
   ]
  },
  {
   "cell_type": "code",
   "execution_count": 12,
   "metadata": {},
   "outputs": [
    {
     "name": "stdout",
     "output_type": "stream",
     "text": [
      "3751415\n",
      "648723\n"
     ]
    }
   ],
   "source": [
    "password = 648723\n",
    "key = 3202020\n",
    "encode = password ^ key\n",
    "print(encode)\n",
    "print(encode ^ key)"
   ]
  },
  {
   "cell_type": "code",
   "execution_count": null,
   "metadata": {},
   "outputs": [],
   "source": [
    "while true:\n",
    "inputnum1=input(\"숫자를 입력해주세요\\n1.갤런을 리터로 변환\\n2.리터를 갤런으로 변환\")\n",
    "    if inputnum1 == '1' :\n",
    "        gal = input(\"몇갤런입니까?\")\n",
    "        lita = int(gal*3.7584)\n",
    "        print(\"%d리터 입니다.\"% lita)\n",
    "    else inputnum1 == '2':\n",
    "        lita = input(\"몇리터 입니까?\")\n",
    "        gal = int(lita*0.2641)\n",
    "        print(\"%d갤런입니다.\"% gal)\n",
    "    \n",
    "    "
   ]
  },
  {
   "cell_type": "code",
   "execution_count": null,
   "metadata": {},
   "outputs": [],
   "source": []
  }
 ],
 "metadata": {
  "kernelspec": {
   "display_name": "Python 3",
   "language": "python",
   "name": "python3"
  },
  "language_info": {
   "codemirror_mode": {
    "name": "ipython",
    "version": 3
   },
   "file_extension": ".py",
   "mimetype": "text/x-python",
   "name": "python",
   "nbconvert_exporter": "python",
   "pygments_lexer": "ipython3",
   "version": "3.7.6"
  }
 },
 "nbformat": 4,
 "nbformat_minor": 4
}
