{
 "cells": [
  {
   "cell_type": "markdown",
   "metadata": {},
   "source": [
    "### 변수의 생존범위\n",
    "\n",
    "### nonlocal = 중첩일때  중첩함수내에서 글로벌은 아니고 그 밖의 함수의 변수 사용하고싶을떄 \n",
    "nonlocal 사용"
   ]
  },
  {
   "cell_type": "code",
   "execution_count": 7,
   "metadata": {},
   "outputs": [
    {
     "name": "stdout",
     "output_type": "stream",
     "text": [
      "전국 대표\n",
      "지역대표 홍길동\n",
      "지역대표\n"
     ]
    }
   ],
   "source": [
    "player = \"전국 대표\"\n",
    "\n",
    "def funcSoccer():\n",
    "    # global player\n",
    "    global player\n",
    "    name = \"홍길동\"\n",
    "    player = \"지역대표\"\n",
    "    print(player, name)\n",
    "    \n",
    "print(player)\n",
    "funcSoccer()\n",
    "print(player)"
   ]
  },
  {
   "cell_type": "code",
   "execution_count": 39,
   "metadata": {},
   "outputs": [
    {
     "ename": "IndentationError",
     "evalue": "unindent does not match any outer indentation level (<tokenize>, line 6)",
     "output_type": "error",
     "traceback": [
      "\u001b[1;36m  File \u001b[1;32m\"<tokenize>\"\u001b[1;36m, line \u001b[1;32m6\u001b[0m\n\u001b[1;33m    def kbs2():\u001b[0m\n\u001b[1;37m    ^\u001b[0m\n\u001b[1;31mIndentationError\u001b[0m\u001b[1;31m:\u001b[0m unindent does not match any outer indentation level\n"
     ]
    }
   ],
   "source": [
    "a = 100 \n",
    "\n",
    "def kbs1():\n",
    "     a= 1\n",
    "    \n",
    "    def kbs2():\n",
    "        \n",
    "        print(\"kbs2 함수 내부: \", a)\n",
    "        \n",
    "    kbs2()\n",
    "    print(\"kbs1 함수 내부 :\",a)\n",
    "    \n",
    "print(a)\n",
    "kbs1()\n"
   ]
  },
  {
   "cell_type": "code",
   "execution_count": 44,
   "metadata": {},
   "outputs": [
    {
     "name": "stdout",
     "output_type": "stream",
     "text": [
      "500\n",
      "kb2 함수 내부 :  1\n",
      "kb1 함수 내부 :  1\n"
     ]
    }
   ],
   "source": [
    "a = 500\n",
    "\n",
    "def kbs1():\n",
    "    a= 1\n",
    "\n",
    "    def kbs2():\n",
    "        nonlocal a\n",
    "        \n",
    "        print(\"kb2 함수 내부 : \", a)\n",
    "        \n",
    "    kbs2()\n",
    "    print(\"kb1 함수 내부 : \", a)\n",
    "print(a)\n",
    "kbs1()"
   ]
  },
  {
   "cell_type": "markdown",
   "metadata": {},
   "source": [
    "# 중첩함수를 사용하고싶으면 중첩함수 밖의 함수에서 중첩함수를 써야한다 !!!!!!!!!!!!!!!!"
   ]
  },
  {
   "cell_type": "code",
   "execution_count": 42,
   "metadata": {},
   "outputs": [
    {
     "name": "stdout",
     "output_type": "stream",
     "text": [
      "500\n",
      "kb2 함수 내부 :  500\n",
      "kb1 함수 내부 :  1\n",
      "500\n"
     ]
    }
   ],
   "source": [
    "a = 500\n",
    "\n",
    "def kbs1():\n",
    "    a= 1\n",
    "\n",
    "    def kbs2():\n",
    "        global a\n",
    "        \n",
    "        print(\"kb2 함수 내부 : \", a)\n",
    "        \n",
    "    kbs2()\n",
    "    print(\"kb1 함수 내부 : \", a)\n",
    "print(a)\n",
    "kbs1()\n",
    "print(a)"
   ]
  },
  {
   "cell_type": "markdown",
   "metadata": {},
   "source": [
    "# Closer\n",
    "    - 함수 밖에서 임임의 함수 안에 선언된 지역변수를 계속 참주할 수 있게 하는 방법\n",
    "    - nonlocal 해도 안되는이유 중첩함수 밖에 있는 함수가 끝나면 그 변수는 거기서 끝나고 다시 가지않음 \n",
    "    \n",
    "# closer 용도 \n",
    "## 전역변수 사용제한\n",
    "## data 은닉"
   ]
  },
  {
   "cell_type": "code",
   "execution_count": 55,
   "metadata": {},
   "outputs": [
    {
     "name": "stdout",
     "output_type": "stream",
     "text": [
      "1\n",
      "2\n"
     ]
    }
   ],
   "source": [
    "#count = 0\n",
    "count = 0\n",
    "def out():\n",
    "    count = 0\n",
    "    \n",
    "    def inn():\n",
    "        #nonlocal count\n",
    "        global count\n",
    "        count += 1\n",
    "        print(count)\n",
    "        \n",
    "    inn()\n",
    "    \n",
    "out()\n",
    "out()\n",
    "\n"
   ]
  },
  {
   "cell_type": "code",
   "execution_count": 116,
   "metadata": {},
   "outputs": [
    {
     "name": "stdout",
     "output_type": "stream",
     "text": [
      "1\n",
      "2\n",
      "3\n",
      "<class 'function'>\n",
      "1\n"
     ]
    }
   ],
   "source": [
    "#count = 0\n",
    "count = 0\n",
    "def out():\n",
    "    count = 0\n",
    "    \n",
    "    def inn():\n",
    "        #nonlocal count\n",
    "        nonlocal count\n",
    "        count += 1\n",
    "        print(count)\n",
    "        \n",
    "    inn()\n",
    "    return inn\n",
    "a = out()\n",
    "a()\n",
    "a()\n",
    "print(type(a))\n",
    "\n",
    "b = out()\n",
    "\n"
   ]
  },
  {
   "cell_type": "markdown",
   "metadata": {},
   "source": [
    "# inn의 주소값을 out함수를 통해 반환함\n",
    "# return inn을 통해 out함수를 호출했지만 inn함수의 주소를 반환해서 inn함수 계쏙 하게 할수있음"
   ]
  },
  {
   "cell_type": "code",
   "execution_count": 66,
   "metadata": {},
   "outputs": [
    {
     "name": "stdout",
     "output_type": "stream",
     "text": [
      "8\n",
      "19\n"
     ]
    }
   ],
   "source": [
    "def calc():\n",
    "    a = 3\n",
    "    b = 5\n",
    "    total = 0\n",
    "    def mul_add(x):\n",
    "        nonlocal total\n",
    "        total = total + a * x + b\n",
    "        print(total)\n",
    "    \n",
    "    return mul_add\n",
    "\n",
    "c = calc()\n",
    "c(1) # 출력값 8\n",
    "c(2) # 8 + 11 출력값 19\n"
   ]
  },
  {
   "cell_type": "code",
   "execution_count": 73,
   "metadata": {},
   "outputs": [
    {
     "name": "stdout",
     "output_type": "stream",
     "text": [
      "2500.0\n",
      "3600.0\n"
     ]
    }
   ],
   "source": [
    "def outer(tax):\n",
    "    def inner(su, dan):\n",
    "        \n",
    "        amount = su*dan*tax\n",
    "        return amount\n",
    "    return inner\n",
    "    \n",
    "tax1 = outer(0.1)\n",
    "mouse = tax1(5,5000)\n",
    "print(mouse)\n",
    "\n",
    "usb = tax1(3, 12000)\n",
    "print(usb)\n",
    "\n",
    "tax2 = outer(0.05)\n",
    "mouse = tax2(5,5000)"
   ]
  },
  {
   "cell_type": "markdown",
   "metadata": {},
   "source": [
    "# 람다 함수 \n"
   ]
  },
  {
   "cell_type": "code",
   "execution_count": 80,
   "metadata": {},
   "outputs": [
    {
     "name": "stdout",
     "output_type": "stream",
     "text": [
      "30\n"
     ]
    }
   ],
   "source": [
    "def hap(x,y):\n",
    "    return x+y\n",
    "result = hap(10,20)\n",
    "print(result)"
   ]
  },
  {
   "cell_type": "code",
   "execution_count": 81,
   "metadata": {},
   "outputs": [
    {
     "name": "stdout",
     "output_type": "stream",
     "text": [
      "30\n"
     ]
    }
   ],
   "source": [
    "print((lambda x,y : x+y)(10,20))"
   ]
  },
  {
   "cell_type": "code",
   "execution_count": 82,
   "metadata": {},
   "outputs": [
    {
     "name": "stdout",
     "output_type": "stream",
     "text": [
      "70\n"
     ]
    },
    {
     "data": {
      "text/plain": [
       "function"
      ]
     },
     "execution_count": 82,
     "metadata": {},
     "output_type": "execute_result"
    }
   ],
   "source": [
    "h1 = (lambda x,y: x+y)\n",
    "print(h1(30,40))\n",
    "type(h1)"
   ]
  },
  {
   "cell_type": "markdown",
   "metadata": {},
   "source": [
    "# 람다에 디폴트 가능 (입력없으면초기값설정)"
   ]
  },
  {
   "cell_type": "code",
   "execution_count": 84,
   "metadata": {},
   "outputs": [
    {
     "name": "stdout",
     "output_type": "stream",
     "text": [
      "70\n",
      "130\n"
     ]
    }
   ],
   "source": [
    "h2 = (lambda x,y=100: x+y)\n",
    "print(h2(30,40))\n",
    "print(h2(30))"
   ]
  },
  {
   "cell_type": "code",
   "execution_count": 85,
   "metadata": {},
   "outputs": [
    {
     "name": "stdout",
     "output_type": "stream",
     "text": [
      "1 (2, 3, 4, 5) {'m': 6, 'n': 7, 'o': 8}\n"
     ]
    }
   ],
   "source": [
    "def lambda_test(a,*b,**c):\n",
    "    print(a,b,c,)\n",
    "    \n",
    "lambda_test(1,2,3,4,5,m=6,n=7,o=8)"
   ]
  },
  {
   "cell_type": "code",
   "execution_count": 88,
   "metadata": {},
   "outputs": [
    {
     "name": "stdout",
     "output_type": "stream",
     "text": [
      "1 (2, 3, 4, 5) {'m': 6, 'n': 7, 'o': 8}\n",
      "None\n"
     ]
    }
   ],
   "source": [
    "print((lambda a,*b,**c:print(a,b,c))(1,2,3,4,5,m=6,n=7,o=8))"
   ]
  },
  {
   "cell_type": "code",
   "execution_count": 102,
   "metadata": {},
   "outputs": [
    {
     "name": "stdout",
     "output_type": "stream",
     "text": [
      "1\n",
      "4\n",
      "3\n",
      "16\n",
      "5\n",
      "[]\n",
      "[1, 4, 3, 16, 5]\n"
     ]
    }
   ],
   "source": [
    "data = [1,2,3,4,5]\n",
    "\n",
    "def lam_test(x):\n",
    "    if x%2 == 0:\n",
    "        return x**2\n",
    "    else:\n",
    "        return x\n",
    "    \n",
    "result = []\n",
    "for i in data:\n",
    "    print(lam_test(i))\n",
    "\n",
    "print(result)\n",
    "#print(list(map(Iam_test,data)))\n",
    "print(list(map(lambda x: x**2 if x %2 == 0 else x, data)))"
   ]
  },
  {
   "cell_type": "markdown",
   "metadata": {},
   "source": [
    "# lambda x : 결과값 if조건식 else 결과2"
   ]
  },
  {
   "cell_type": "code",
   "execution_count": 107,
   "metadata": {},
   "outputs": [
    {
     "name": "stdout",
     "output_type": "stream",
     "text": [
      "a함수 실행\n",
      "a함수 실행\n",
      "a함수 실행\n"
     ]
    },
    {
     "ename": "TypeError",
     "evalue": "'NoneType' object is not callable",
     "output_type": "error",
     "traceback": [
      "\u001b[1;31m---------------------------------------------------------------------------\u001b[0m",
      "\u001b[1;31mTypeError\u001b[0m                                 Traceback (most recent call last)",
      "\u001b[1;32m<ipython-input-107-ae11a781e342>\u001b[0m in \u001b[0;36m<module>\u001b[1;34m\u001b[0m\n\u001b[0;32m      5\u001b[0m \u001b[0ma\u001b[0m\u001b[1;33m(\u001b[0m\u001b[1;33m)\u001b[0m\u001b[1;33m\u001b[0m\u001b[1;33m\u001b[0m\u001b[0m\n\u001b[0;32m      6\u001b[0m \u001b[0ma\u001b[0m\u001b[1;33m(\u001b[0m\u001b[1;33m)\u001b[0m\u001b[1;33m\u001b[0m\u001b[1;33m\u001b[0m\u001b[0m\n\u001b[1;32m----> 7\u001b[1;33m \u001b[0mb\u001b[0m\u001b[1;33m(\u001b[0m\u001b[1;33m)\u001b[0m\u001b[1;33m\u001b[0m\u001b[1;33m\u001b[0m\u001b[0m\n\u001b[0m\u001b[0;32m      8\u001b[0m \u001b[0mb\u001b[0m\u001b[1;33m(\u001b[0m\u001b[1;33m)\u001b[0m\u001b[1;33m\u001b[0m\u001b[1;33m\u001b[0m\u001b[0m\n",
      "\u001b[1;31mTypeError\u001b[0m: 'NoneType' object is not callable"
     ]
    }
   ],
   "source": [
    "def a():\n",
    "    print(\"a함수 실행\")\n",
    "    \n",
    "b = a()\n",
    "a()\n",
    "a()\n",
    "b()\n",
    "b()"
   ]
  },
  {
   "cell_type": "markdown",
   "metadata": {},
   "source": [
    "# 함수 장식자(decorator)\n",
    "    - 일종의 함수 감싸기를 해주는 디자인 패턴\n",
    "    - 메타 프로그래밍 기법\n",
    "    -@classmethod, @staticmethod, @abstract ... 기타등등"
   ]
  },
  {
   "cell_type": "code",
   "execution_count": 120,
   "metadata": {},
   "outputs": [
    {
     "ename": "TypeError",
     "evalue": "'str' object is not callable",
     "output_type": "error",
     "traceback": [
      "\u001b[1;31m---------------------------------------------------------------------------\u001b[0m",
      "\u001b[1;31mTypeError\u001b[0m                                 Traceback (most recent call last)",
      "\u001b[1;32m<ipython-input-120-27e8b5a14904>\u001b[0m in \u001b[0;36m<module>\u001b[1;34m\u001b[0m\n\u001b[0;32m     15\u001b[0m \u001b[1;31m# print(h2())\u001b[0m\u001b[1;33m\u001b[0m\u001b[1;33m\u001b[0m\u001b[1;33m\u001b[0m\u001b[0m\n\u001b[0;32m     16\u001b[0m \u001b[0mj1\u001b[0m \u001b[1;33m=\u001b[0m \u001b[0mhello\u001b[0m\u001b[1;33m(\u001b[0m\u001b[1;33m)\u001b[0m\u001b[1;33m\u001b[0m\u001b[1;33m\u001b[0m\u001b[0m\n\u001b[1;32m---> 17\u001b[1;33m \u001b[0mj1\u001b[0m\u001b[1;33m(\u001b[0m\u001b[1;33m)\u001b[0m\u001b[1;33m\u001b[0m\u001b[1;33m\u001b[0m\u001b[0m\n\u001b[0m",
      "\u001b[1;31mTypeError\u001b[0m: 'str' object is not callable"
     ]
    }
   ],
   "source": [
    "def make2(fn):\n",
    "    return lambda: \"안녕\" + fn()\n",
    "\n",
    "def make1(fn):\n",
    "    return lambda: \"반가워\" + fn()\n",
    "\n",
    "def hello():\n",
    "    return \"홍길동\"\n",
    "\n",
    "#hello()  #hello\n",
    "#make1(hello) <함수의 주소 lambda: \"반가워\" + fn()함수의 주소\n",
    "#(make1(hello))()  이게 출력값이 반가워 홍길동\n",
    "# h1 = make1(hello)\n",
    "# h2 = make2(h1)\n",
    "# print(h2())\n"
   ]
  },
  {
   "cell_type": "markdown",
   "metadata": {},
   "source": [
    "# 함수의 주소는 hello  함수를 부르려면 함수의 변수 "
   ]
  },
  {
   "cell_type": "code",
   "execution_count": 121,
   "metadata": {},
   "outputs": [
    {
     "name": "stdout",
     "output_type": "stream",
     "text": [
      "안녕반가워임꺽정\n"
     ]
    }
   ],
   "source": [
    "@make2\n",
    "@make1\n",
    "def hello2():\n",
    "    return \"임꺽정\"\n",
    "\n",
    "print(hello2())"
   ]
  },
  {
   "cell_type": "code",
   "execution_count": 125,
   "metadata": {},
   "outputs": [
    {
     "name": "stdout",
     "output_type": "stream",
     "text": [
      "결과는 13 입니다.\n"
     ]
    }
   ],
   "source": [
    "def outer(fn):\n",
    "    def inner(n1,n2):\n",
    "        print(\"결과는 {} 입니다.\".format(fn(n1,n2)))\n",
    "        \n",
    "    return inner\n",
    "\n",
    "def func(n1,n2):\n",
    "    return n1+n2\n",
    "\n",
    "result = outer(func)# result는 inner함수의 주소\n",
    "result(10,3)"
   ]
  },
  {
   "cell_type": "code",
   "execution_count": 127,
   "metadata": {},
   "outputs": [
    {
     "name": "stdout",
     "output_type": "stream",
     "text": [
      "결과는 13 입니다.\n"
     ]
    }
   ],
   "source": [
    "def outer(fn):\n",
    "    def inner(n1,n2):\n",
    "        print(\"결과는 {} 입니다.\".format(fn(n1,n2)))\n",
    "        \n",
    "    return inner\n",
    "\n",
    "@outer\n",
    "def func(n1,n2):\n",
    "    return n1+n2\n",
    "\n",
    "func(10,3)"
   ]
  },
  {
   "cell_type": "code",
   "execution_count": 128,
   "metadata": {},
   "outputs": [
    {
     "name": "stdout",
     "output_type": "stream",
     "text": [
      "1\n",
      "2\n",
      "<class 'function'>\n"
     ]
    }
   ],
   "source": [
    "#count = 0\n",
    "count = 0\n",
    "def out():\n",
    "    count = 0\n",
    "    \n",
    "    def inn():\n",
    "        #nonlocal count\n",
    "        nonlocal count\n",
    "        count += 1\n",
    "        print(count)\n",
    "        \n",
    "    #inn\n",
    "    return inn\n",
    "a = out()   # out()함수의 주소를 a가 가지고있다 그래서 a()하면 out()함수를 시작한다 vs out()함수의 return 값인 inn함수의 시작을 a가 가지고있다 그래서 a()하면 inn함수를 시작한다.\n",
    "a()\n",
    "a()\n",
    "print(type(a))\n",
    "\n",
    "b = out()\n"
   ]
  },
  {
   "cell_type": "code",
   "execution_count": null,
   "metadata": {},
   "outputs": [],
   "source": []
  }
 ],
 "metadata": {
  "kernelspec": {
   "display_name": "Python 3",
   "language": "python",
   "name": "python3"
  },
  "language_info": {
   "codemirror_mode": {
    "name": "ipython",
    "version": 3
   },
   "file_extension": ".py",
   "mimetype": "text/x-python",
   "name": "python",
   "nbconvert_exporter": "python",
   "pygments_lexer": "ipython3",
   "version": "3.7.6"
  }
 },
 "nbformat": 4,
 "nbformat_minor": 4
}
